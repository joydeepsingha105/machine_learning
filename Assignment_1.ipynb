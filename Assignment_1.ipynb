{
 "cells": [
  {
   "cell_type": "markdown",
   "metadata": {},
   "source": [
    "# 1. Convert tuple to list, set and dictionary"
   ]
  },
  {
   "cell_type": "markdown",
   "metadata": {},
   "source": [
    "tuple $\\rightarrow$ list"
   ]
  },
  {
   "cell_type": "code",
   "execution_count": 1,
   "metadata": {},
   "outputs": [
    {
     "name": "stdout",
     "output_type": "stream",
     "text": [
      "The content of T_1 are : (1, 2, 2, 3.5, 4, 4, 19.38, 'A', 'B', 'seinfeld', 'B')\n",
      "the type of T_1 : <class 'tuple'>\n",
      "\n",
      "The content of L_1 are : [1, 2, 2, 3.5, 4, 4, 19.38, 'A', 'B', 'seinfeld', 'B']\n",
      "the type of L_1 : <class 'list'>\n"
     ]
    }
   ],
   "source": [
    "T_1 = (1, 2, 2, 3.5, 4, 4, 19.38, 'A', 'B', 'seinfeld', 'B')\n",
    "print('The content of T_1 are :',T_1)\n",
    "print('the type of T_1 :', type(T_1))\n",
    "\n",
    "L_1 = list(T_1)\n",
    "print('\\nThe content of L_1 are :',L_1)\n",
    "print('the type of L_1 :', type(L_1))\n"
   ]
  },
  {
   "cell_type": "markdown",
   "metadata": {},
   "source": [
    "tuple $\\rightarrow$ set"
   ]
  },
  {
   "cell_type": "code",
   "execution_count": 2,
   "metadata": {},
   "outputs": [
    {
     "name": "stdout",
     "output_type": "stream",
     "text": [
      "The content of S_1 are : {1, 2, 3.5, 4, 'B', 'seinfeld', 19.38, 'A'}\n",
      "The type of S_1 : <class 'set'>\n"
     ]
    }
   ],
   "source": [
    "S_1 = set(T_1)\n",
    "print('The content of S_1 are :',S_1)\n",
    "print('The type of S_1 :',type(S_1))\n"
   ]
  },
  {
   "cell_type": "markdown",
   "metadata": {},
   "source": [
    "tuple $\\rightarrow$ dictionary\n",
    "\n",
    "The tuple S_1 defined cannot be converted to a dictionary in the aove form. However a tuple of tuples can be converted to a dictionary. This is shown in below. "
   ]
  },
  {
   "cell_type": "code",
   "execution_count": 3,
   "metadata": {},
   "outputs": [
    {
     "name": "stdout",
     "output_type": "stream",
     "text": [
      "The type of T_2 is  <class 'tuple'> \n",
      "\n",
      "The type of S_2 is  <class 'dict'>\n",
      "The content of S_2 is\n",
      " {'Joydeep': ('breakfast', 150), 'Subhayan': ('lunch', 200), 'Mrinal': ('breakfast', 200), 'Soumitra': ('Dinner', 500)}\n"
     ]
    }
   ],
   "source": [
    "T_2 = (('Joydeep', ('breakfast',150)), ('Subhayan', ('lunch',200)), ('Mrinal', ('breakfast', 200)), ('Soumitra', ('Dinner',500)))\n",
    "print('The type of T_2 is ',type(T_2),'\\n')\n",
    "D_1 = dict(T_2)\n",
    "print('The type of S_2 is ',type(D_1))\n",
    "print('The content of S_2 is\\n',D_1)"
   ]
  },
  {
   "cell_type": "markdown",
   "metadata": {},
   "source": [
    "# 2. Convert list to tuple, set and dictionary"
   ]
  },
  {
   "cell_type": "markdown",
   "metadata": {},
   "source": [
    "list $\\rightarrow$ tuple"
   ]
  },
  {
   "cell_type": "code",
   "execution_count": 4,
   "metadata": {},
   "outputs": [
    {
     "name": "stdout",
     "output_type": "stream",
     "text": [
      "The type of L_2 is  <class 'list'>\n",
      "The content of L_2 is\n",
      " ['Meluha', 'cycle', 'wallet', 50, '4 litres', 'lofi hiphop', 100, 3.8, 5, 5] \n",
      "\n",
      "The type of T_3 is <class 'tuple'>\n",
      "The content of T_3 is ('Meluha', 'cycle', 'wallet', 50, '4 litres', 'lofi hiphop', 100, 3.8, 5, 5)\n"
     ]
    }
   ],
   "source": [
    "L_2 = ['Meluha', 'cycle', 'wallet', 50, '4 litres', 'lofi hiphop', 100, 3.8, 5, 5]\n",
    "print('The type of L_2 is ', type(L_2))\n",
    "print('The content of L_2 is\\n', L_2, '\\n')\n",
    "\n",
    "T_3 = tuple(L_2)\n",
    "print('The type of T_3 is', type(T_3))\n",
    "print('The content of T_3 is', T_3)"
   ]
  },
  {
   "cell_type": "markdown",
   "metadata": {},
   "source": [
    "list $\\rightarrow$ set"
   ]
  },
  {
   "cell_type": "code",
   "execution_count": 5,
   "metadata": {
    "scrolled": true
   },
   "outputs": [
    {
     "name": "stdout",
     "output_type": "stream",
     "text": [
      "The type of S_2 is <class 'set'>\n",
      "The content of S_2 is {3.8, 100, 5, 'wallet', '4 litres', 'lofi hiphop', 50, 'cycle', 'Meluha'}\n"
     ]
    }
   ],
   "source": [
    "S_2 = set(L_2)\n",
    "print('The type of S_2 is',type(S_2))\n",
    "print('The content of S_2 is',S_2)"
   ]
  },
  {
   "cell_type": "markdown",
   "metadata": {},
   "source": [
    "list $\\rightarrow$ dictionary\n",
    "\n",
    "The list L_2 is the above cannot be converted to a dictionary but similar to the case of the tuple, a list of lists can be converted to a dictionary.   "
   ]
  },
  {
   "cell_type": "code",
   "execution_count": 6,
   "metadata": {},
   "outputs": [
    {
     "name": "stdout",
     "output_type": "stream",
     "text": [
      "The type of L_3 is <class 'list'> \n",
      "\n",
      "The type of D_2 is <class 'dict'>\n",
      "The content of D_2 is\n",
      " {'Joydeep': ['breakfast', 150], 'Subhayan': ['lunch', 200], 'Mrinal': ['breakfast', 200], 'Soumitra': ['Dinner', 500]}\n"
     ]
    }
   ],
   "source": [
    "L_3 = [['Joydeep', ['breakfast',150]], ['Subhayan', ['lunch',200]], ['Mrinal', ['breakfast', 200]], ['Soumitra', ['Dinner',500]]]\n",
    "print('The type of L_3 is',type(L_3),'\\n')\n",
    "\n",
    "D_2 = dict(L_3)\n",
    "print('The type of D_2 is',type(D_2))\n",
    "print('The content of D_2 is\\n',D_2)"
   ]
  },
  {
   "cell_type": "markdown",
   "metadata": {},
   "source": [
    "# 3. Convert a set to tuple"
   ]
  },
  {
   "cell_type": "markdown",
   "metadata": {},
   "source": [
    "set $\\rightarrow$ tuple"
   ]
  },
  {
   "cell_type": "code",
   "execution_count": 7,
   "metadata": {},
   "outputs": [
    {
     "name": "stdout",
     "output_type": "stream",
     "text": [
      "The type of S_2 is <class 'set'>\n",
      "The content of S_2 is {3.8, 100, 5, 'wallet', '4 litres', 'lofi hiphop', 50, 'cycle', 'Meluha'} \n",
      "\n",
      "The type of T_4 is <class 'tuple'>\n",
      "The content of T_4 is (3.8, 100, 5, 'wallet', '4 litres', 'lofi hiphop', 50, 'cycle', 'Meluha')\n"
     ]
    }
   ],
   "source": [
    "S_2 = {'Meluha', 'cycle', 'wallet', 50, '4 litres', 'lofi hiphop', 100, 3.8, 5, 5}\n",
    "print('The type of S_2 is',type(S_2))\n",
    "print('The content of S_2 is',S_2,'\\n')\n",
    "\n",
    "T_4 = tuple(S_2)\n",
    "print('The type of T_4 is',type(T_4))\n",
    "print('The content of T_4 is',T_4)"
   ]
  },
  {
   "cell_type": "markdown",
   "metadata": {},
   "source": [
    "set $\\rightarrow$ list"
   ]
  },
  {
   "cell_type": "code",
   "execution_count": 8,
   "metadata": {},
   "outputs": [
    {
     "name": "stdout",
     "output_type": "stream",
     "text": [
      "The type of L_3 is <class 'list'>\n",
      "The content of L_3 is [3.8, 100, 5, 'wallet', '4 litres', 'lofi hiphop', 50, 'cycle', 'Meluha']\n"
     ]
    }
   ],
   "source": [
    "L_3 = list(S_2)\n",
    "print('The type of L_3 is',type(L_3))\n",
    "print('The content of L_3 is',L_3)"
   ]
  },
  {
   "cell_type": "markdown",
   "metadata": {},
   "source": [
    "set $\\rightarrow$ dictionary \n",
    "\n",
    "Similar to the cases before a set of sets can be converted to a dictionary "
   ]
  },
  {
   "cell_type": "code",
   "execution_count": 9,
   "metadata": {},
   "outputs": [
    {
     "name": "stdout",
     "output_type": "stream",
     "text": [
      "{'Subhayan': 200, 'Soumitra': 500, 'Mrinal': 200, 'Joydeep': 150}\n"
     ]
    }
   ],
   "source": [
    "S_3 = {('Joydeep',150), ('Subhayan', 200), ('Mrinal', 200), ('Soumitra',500)}\n",
    "D_3 = dict(S_3)\n",
    "print(D_3)"
   ]
  },
  {
   "cell_type": "markdown",
   "metadata": {},
   "source": [
    "# 4. Convert a Dictionary to a tuple"
   ]
  },
  {
   "cell_type": "markdown",
   "metadata": {},
   "source": [
    "Dictionary $\\rightarrow$ tuple"
   ]
  },
  {
   "cell_type": "code",
   "execution_count": 57,
   "metadata": {},
   "outputs": [
    {
     "name": "stdout",
     "output_type": "stream",
     "text": [
      "The type of D_4 <class 'dict'>\n",
      "The content of D4 is {'Joydeep': (150, 200), 'Subhayan': 200, 'Mrinal': 200, 'Soumitra': 500} \n",
      "\n",
      "The content of T_5 is ('Joydeep', 'Subhayan', 'Mrinal', 'Soumitra', (150, 200), 200, 200, 500)\n"
     ]
    }
   ],
   "source": [
    "D_4 = {'Joydeep':(150, 200), 'Subhayan':200, 'Mrinal':200, 'Soumitra':500}\n",
    "print('The type of D_4',type(D_4))\n",
    "print('The content of D4 is',D_4,'\\n')\n",
    "\n",
    "T_5_1 = tuple(D_4.keys())\n",
    "T_5_2 = tuple(D_4.values())\n",
    "T_5 = T_5_1 + T_5_2\n",
    "print('The content of T_5 is',T_5)"
   ]
  },
  {
   "cell_type": "markdown",
   "metadata": {},
   "source": [
    "Dictionary $\\rightarrow$ list"
   ]
  },
  {
   "cell_type": "code",
   "execution_count": 58,
   "metadata": {},
   "outputs": [
    {
     "name": "stdout",
     "output_type": "stream",
     "text": [
      "The content of L_5 is ['Joydeep', 'Subhayan', 'Mrinal', 'Soumitra', (150, 200), 200, 200, 500]\n"
     ]
    }
   ],
   "source": [
    "L_5_1 = list(D_4.keys())\n",
    "L_5_2 = list(D_4.values())\n",
    "L_5 = L_5_1 + L_5_2\n",
    "print('The content of L_5 is',L_5)"
   ]
  },
  {
   "cell_type": "markdown",
   "metadata": {},
   "source": [
    "Dictionary $\\rightarrow$ list"
   ]
  },
  {
   "cell_type": "code",
   "execution_count": 60,
   "metadata": {},
   "outputs": [
    {
     "name": "stdout",
     "output_type": "stream",
     "text": [
      "The content of S_5 is {'Subhayan', 'Mrinal', 500, (150, 200), 200, 'Soumitra', 'Joydeep'}\n"
     ]
    }
   ],
   "source": [
    "S_5_1 = set(D_4.keys())\n",
    "S_5_2 = set(D_4.values())\n",
    "S_5 = S_5_1.union(S_5_2)\n",
    "print('The content of S_5 is',S_5)"
   ]
  },
  {
   "cell_type": "markdown",
   "metadata": {},
   "source": [
    "# 5. Create a list and perform pop, append, update, remove, delete, add element and sort operation\n"
   ]
  },
  {
   "cell_type": "markdown",
   "metadata": {},
   "source": [
    "Pop operation"
   ]
  },
  {
   "cell_type": "code",
   "execution_count": 198,
   "metadata": {},
   "outputs": [
    {
     "name": "stdout",
     "output_type": "stream",
     "text": [
      "the last element of L1 is  5\n",
      "the second to last element of L1 is  3.8\n",
      "the updated list  ['Meluha', 'cycle', 'wallet', 50, '4 litres', 'lofi hiphop', 100, 5]\n"
     ]
    }
   ],
   "source": [
    "L1 = ['Meluha', 'cycle', 'wallet', 50, '4 litres', 'lofi hiphop', 100, 3.8, 5, 5]\n",
    "\n",
    "print('the last element of L1 is ',L1.pop())\n",
    "print('the second to last element of L1 is ',L1.pop(-2))\n",
    "print('the updated list ',L1)"
   ]
  },
  {
   "cell_type": "markdown",
   "metadata": {},
   "source": [
    "append operation"
   ]
  },
  {
   "cell_type": "code",
   "execution_count": 199,
   "metadata": {},
   "outputs": [
    {
     "name": "stdout",
     "output_type": "stream",
     "text": [
      "['Meluha', 'cycle', 'wallet', 50, '4 litres', 'lofi hiphop', 100, 3.8, 5, 5, 'toast']\n"
     ]
    }
   ],
   "source": [
    "L1 = ['Meluha', 'cycle', 'wallet', 50, '4 litres', 'lofi hiphop', 100, 3.8, 5, 5]\n",
    "L1.append('toast')\n",
    "print(L1)"
   ]
  },
  {
   "cell_type": "markdown",
   "metadata": {},
   "source": [
    "remove operation"
   ]
  },
  {
   "cell_type": "code",
   "execution_count": 93,
   "metadata": {},
   "outputs": [
    {
     "name": "stdout",
     "output_type": "stream",
     "text": [
      "['Meluha', 'cycle', 'wallet', 50, '4 litres', 'lofi hiphop', 100, 3.8, 5, 5, 'toast']\n",
      "['cycle', 'wallet', 50, '4 litres', 'lofi hiphop', 100, 3.8, 5, 5, 'toast']\n"
     ]
    }
   ],
   "source": [
    "print(L1)\n",
    "L1.remove('Meluha')\n",
    "print(L1)"
   ]
  },
  {
   "cell_type": "code",
   "execution_count": 94,
   "metadata": {},
   "outputs": [
    {
     "name": "stdout",
     "output_type": "stream",
     "text": [
      "['cycle', 'wallet', 50, '4 litres', 'lofi hiphop', 100, 3.8, 5, 5, 'toast']\n",
      "['4 litres', 'lofi hiphop', 100, 3.8, 5, 5, 'toast']\n"
     ]
    }
   ],
   "source": [
    "print(L1)\n",
    "del L1[0:3]\n",
    "print(L1)"
   ]
  },
  {
   "cell_type": "markdown",
   "metadata": {},
   "source": [
    "add elements : one of the operation is append which is shown above although there are other ways too. "
   ]
  },
  {
   "cell_type": "code",
   "execution_count": 103,
   "metadata": {},
   "outputs": [
    {
     "name": "stdout",
     "output_type": "stream",
     "text": [
      "['power', 'greed', 'apathy', 'corruption', 'hope']\n",
      "['power', 'greed', 'apathy', 'corruption', 'hope', 'batman', 'joker']\n",
      "['power', 'greed', 'apathy', 'corruption', 'hope', 'batman', 'joker', 'scarecrow', 'riddler']\n",
      "['power', 'greed', 'apathy', 'corruption', 'hope', 'batman', 'joker', 'scarecrow', 'riddler', 'harley', 'cobblepot']\n"
     ]
    }
   ],
   "source": [
    "L2 = ['power', 'greed', 'apathy', 'corruption', 'hope']\n",
    "print(L2)\n",
    "L2 = L2 + ['batman', 'joker']\n",
    "print(L2)\n",
    "\n",
    "L3 = ['scarecrow', 'riddler']\n",
    "L2 = L2 + L3\n",
    "print(L2)\n",
    "L2.extend(['harley', 'cobblepot'])\n",
    "print(L2)"
   ]
  },
  {
   "cell_type": "markdown",
   "metadata": {},
   "source": [
    "Sort"
   ]
  },
  {
   "cell_type": "code",
   "execution_count": 104,
   "metadata": {},
   "outputs": [
    {
     "name": "stdout",
     "output_type": "stream",
     "text": [
      "['apathy', 'batman', 'cobblepot', 'corruption', 'greed', 'harley', 'hope', 'joker', 'power', 'riddler', 'scarecrow']\n"
     ]
    }
   ],
   "source": [
    "print(sorted(L2))"
   ]
  },
  {
   "cell_type": "code",
   "execution_count": 105,
   "metadata": {},
   "outputs": [
    {
     "name": "stdout",
     "output_type": "stream",
     "text": [
      "[1, 2, 2, 3, 3, 33, 43, 44, 56, 56, 56, 76, 767]\n"
     ]
    }
   ],
   "source": [
    "L4 = [1, 33, 43, 2, 3, 44, 56, 56, 2, 3, 76, 56, 767]\n",
    "print(sorted(L4))"
   ]
  },
  {
   "cell_type": "code",
   "execution_count": 108,
   "metadata": {},
   "outputs": [
    {
     "name": "stdout",
     "output_type": "stream",
     "text": [
      "[767, 76, 56, 56, 56, 44, 43, 33, 3, 3, 2, 2, 1]\n",
      "[1, 2, 2, 3, 3, 33, 43, 44, 56, 56, 56, 76, 767]\n"
     ]
    }
   ],
   "source": [
    "L4.sort(reverse = True)\n",
    "print(L4)\n",
    "\n",
    "L4.sort(reverse = False)\n",
    "print(L4)"
   ]
  },
  {
   "cell_type": "markdown",
   "metadata": {},
   "source": [
    "# 6. Create a tuple and perform pop, append, update, remove, delete, add element and sort operation\n",
    "\n"
   ]
  },
  {
   "cell_type": "code",
   "execution_count": 141,
   "metadata": {
    "scrolled": true
   },
   "outputs": [
    {
     "name": "stdout",
     "output_type": "stream",
     "text": [
      "<class 'tuple'>\n"
     ]
    }
   ],
   "source": [
    "T1 = ('Meluha', 'cycle', 'wallet', 50, '4 litres', 'lofi hiphop', 100, 3.8, 5, 5)\n",
    "print(type(T1))"
   ]
  },
  {
   "cell_type": "markdown",
   "metadata": {},
   "source": [
    "Since a tuple is immutable, the operations such as pop, append, remove, adding element or sort operation do not work. However the tuple can be copied in to list and all of the operations which modifies its content can work "
   ]
  },
  {
   "cell_type": "markdown",
   "metadata": {},
   "source": [
    "# 7. Create a set and perform pop, append, update, remove, delete, add element and sort operation"
   ]
  },
  {
   "cell_type": "code",
   "execution_count": 168,
   "metadata": {},
   "outputs": [
    {
     "name": "stdout",
     "output_type": "stream",
     "text": [
      "The type of S1 is <class 'set'>\n",
      "The content of S1 is {'lofi hiphop', 3.8, 100, 5, 'Meluha', 50, 'cycle', '4 litres', 'wallet'}\n"
     ]
    }
   ],
   "source": [
    "S1 = {'Meluha', 'cycle', 'wallet', 50, '4 litres', 'lofi hiphop', 100, 3.8, 5, 5}\n",
    "print('The type of S1 is',type(S1))\n",
    "print('The content of S1 is',S1)"
   ]
  },
  {
   "cell_type": "markdown",
   "metadata": {},
   "source": [
    "pop operation "
   ]
  },
  {
   "cell_type": "code",
   "execution_count": 169,
   "metadata": {},
   "outputs": [
    {
     "name": "stdout",
     "output_type": "stream",
     "text": [
      "lofi hiphop\n",
      "The content of S1 is {3.8, 100, 5, 'Meluha', 50, 'cycle', '4 litres', 'wallet'}\n"
     ]
    }
   ],
   "source": [
    "print(S1.pop())\n",
    "print('The content of S1 is',S1)"
   ]
  },
  {
   "cell_type": "markdown",
   "metadata": {},
   "source": [
    "Append operation do not work for set. However we can use 'add' and 'update' operation for a set "
   ]
  },
  {
   "cell_type": "code",
   "execution_count": 170,
   "metadata": {},
   "outputs": [
    {
     "name": "stdout",
     "output_type": "stream",
     "text": [
      "The content of S1 is {'chowmein', 3.8, 100, 5, 'noodles', 'Meluha', 50, 'cycle', '4 litres', 'wallet', 'dimsum'}\n"
     ]
    }
   ],
   "source": [
    "S1.add('chowmein')\n",
    "S1.update(['noodles','dimsum'])\n",
    "print('The content of S1 is',S1)"
   ]
  },
  {
   "cell_type": "code",
   "execution_count": 171,
   "metadata": {},
   "outputs": [
    {
     "name": "stdout",
     "output_type": "stream",
     "text": [
      "The content of S1 is {3.8, 100, 5, 'noodles', 'Meluha', 50, 'cycle', '4 litres', 'wallet', 'dimsum'}\n"
     ]
    }
   ],
   "source": [
    "S1.remove('chowmein')\n",
    "print('The content of S1 is',S1)"
   ]
  },
  {
   "cell_type": "markdown",
   "metadata": {},
   "source": [
    "delete operation"
   ]
  },
  {
   "cell_type": "code",
   "execution_count": 172,
   "metadata": {},
   "outputs": [
    {
     "name": "stdout",
     "output_type": "stream",
     "text": [
      "set()\n"
     ]
    }
   ],
   "source": [
    "S1.clear()\n",
    "print(S1)"
   ]
  },
  {
   "cell_type": "markdown",
   "metadata": {},
   "source": [
    "Sort operation do not work if the set contain both str and int type elements. We make a set with int type values. "
   ]
  },
  {
   "cell_type": "code",
   "execution_count": 181,
   "metadata": {},
   "outputs": [
    {
     "name": "stdout",
     "output_type": "stream",
     "text": [
      "[0.9, 12, 21, 23, 32, 45, 54, 65, 87, 213]\n"
     ]
    }
   ],
   "source": [
    "S1 = {12, 213, 21, 32, 54, 65, 23, 87, 54, 45, 21, 0.9}\n",
    "print(sorted(S1))"
   ]
  },
  {
   "cell_type": "markdown",
   "metadata": {},
   "source": [
    "# 8. Create a Dictionary and perform pop, append, update, remove, delete, add element and sort operation"
   ]
  },
  {
   "cell_type": "code",
   "execution_count": 213,
   "metadata": {},
   "outputs": [
    {
     "name": "stdout",
     "output_type": "stream",
     "text": [
      "The type of D1 is <class 'dict'>\n"
     ]
    }
   ],
   "source": [
    "D1 = {'Joydeep':(150, 200), 'Subhayan':200, 'Mrinal':200, 'Soumitra':500}\n",
    "print('The type of D1 is',type(D1))"
   ]
  },
  {
   "cell_type": "markdown",
   "metadata": {},
   "source": [
    "pop and append operation do not work with dictionries. \n",
    "However we can use 'update' operation to add a new element in a dictionary. "
   ]
  },
  {
   "cell_type": "code",
   "execution_count": 214,
   "metadata": {},
   "outputs": [
    {
     "name": "stdout",
     "output_type": "stream",
     "text": [
      "None\n",
      "{'Joydeep': (150, 200), 'Subhayan': 200, 'Mrinal': 200, 'Soumitra': 500, 'subhjit': 300}\n",
      "{'Joydeep': (150, 200), 'Subhayan': 200, 'Mrinal': 200, 'Soumitra': 500, 'subhjit': 300, 'subhajit': [50, 200, 250]}\n"
     ]
    }
   ],
   "source": [
    "print(D1.update({'subhjit':300}))\n",
    "print(D1)\n",
    "\n",
    "D1['subhajit'] = [50, 200, 250]#to update the values of a certain key\n",
    "print(D1)"
   ]
  },
  {
   "cell_type": "markdown",
   "metadata": {},
   "source": [
    "remove operation do not work in dictionary however we can use 'del' and 'clear' that do work"
   ]
  },
  {
   "cell_type": "code",
   "execution_count": 215,
   "metadata": {},
   "outputs": [
    {
     "name": "stdout",
     "output_type": "stream",
     "text": [
      "The up to date content of D1 is\n",
      " {'Joydeep': (150, 200), 'Subhayan': 200, 'Mrinal': 200, 'subhjit': 300, 'subhajit': [50, 200, 250]}\n"
     ]
    }
   ],
   "source": [
    "del D1['Soumitra']\n",
    "print('The up to date content of D1 is\\n',D1)"
   ]
  },
  {
   "cell_type": "markdown",
   "metadata": {},
   "source": [
    "Sort operation : this sort only sorts the Keys of the dictionary"
   ]
  },
  {
   "cell_type": "code",
   "execution_count": 225,
   "metadata": {},
   "outputs": [
    {
     "name": "stdout",
     "output_type": "stream",
     "text": [
      "{'Joydeep': (150, 200), 'Subhayan': 200, 'Mrinal': 200, 'subhjit': 300, 'subhajit': [50, 200, 250]}\n"
     ]
    }
   ],
   "source": [
    "print(sorted(D1))"
   ]
  },
  {
   "cell_type": "markdown",
   "metadata": {},
   "source": [
    "# 9. How to make a copy of list, tuple and dictionary"
   ]
  },
  {
   "cell_type": "code",
   "execution_count": 228,
   "metadata": {},
   "outputs": [
    {
     "name": "stdout",
     "output_type": "stream",
     "text": [
      "The content of L_fruits ['coconut', 'mango', 'dates', 'figs', 'avocado']\n",
      "The memory address of L_fruits is 4584689488 \n",
      "\n",
      "The content of address of L_fruits_new is ['coconut', 'mango', 'dates', 'figs', 'avocado']\n",
      "The memory address of L_fruits_new is 4586765760 \n",
      "\n"
     ]
    }
   ],
   "source": [
    "#Copying list\n",
    "\n",
    "L_fruits = ['coconut', 'mango', 'dates', 'figs', 'avocado']\n",
    "L_fruits_new = L_fruits.copy()\n",
    "print('The content of L_fruits',L_fruits)\n",
    "print('The memory address of L_fruits is',id(L_fruits),'\\n')\n",
    "\n",
    "print('The content of address of L_fruits_new is',L_fruits_new)\n",
    "print('The memory address of L_fruits_new is',id(L_fruits_new),'\\n')"
   ]
  },
  {
   "cell_type": "markdown",
   "metadata": {},
   "source": [
    "A tuple cannot be copied as it is immutable. "
   ]
  },
  {
   "cell_type": "code",
   "execution_count": 10,
   "metadata": {},
   "outputs": [
    {
     "name": "stdout",
     "output_type": "stream",
     "text": [
      "The content of L_fruits {'bruce': ['batman', 100], 'clerk': ['superman', 79], 'diana': ['wonderwoman', 70], 'wally': ['flash', 75], 'john': ['martian manhunter', 68]}\n",
      "The memory address of L_fruits is 4338646704 \n",
      "\n",
      "The content of address of L_fruits_new is {'bruce': ['batman', 100], 'clerk': ['superman', 79], 'diana': ['wonderwoman', 70], 'wally': ['flash', 75], 'john': ['martian manhunter', 68]}\n",
      "The memory address of L_fruits_new is 4338692176 \n",
      "\n"
     ]
    }
   ],
   "source": [
    "#Copying dictionary\n",
    "\n",
    "L_DC_heros = {'bruce':['batman',100], 'clerk':['superman',79], 'diana':['wonderwoman',70], 'wally':['flash',75], 'john':['martian manhunter',68]}\n",
    "L_DC_heros_new = L_DC_heros.copy()\n",
    "print('The content of L_fruits',L_DC_heros)\n",
    "print('The memory address of L_fruits is',id(L_DC_heros),'\\n')\n",
    "\n",
    "print('The content of address of L_fruits_new is',L_DC_heros_new)\n",
    "print('The memory address of L_fruits_new is',id(L_DC_heros_new),'\\n')"
   ]
  },
  {
   "cell_type": "markdown",
   "metadata": {},
   "source": [
    "# 10. Write a function which accept input from keyboard and check if student grade should be First division, second division or Fail \n"
   ]
  },
  {
   "cell_type": "code",
   "execution_count": 12,
   "metadata": {},
   "outputs": [
    {
     "name": "stdout",
     "output_type": "stream",
     "text": [
      "Enter the student's grade \n",
      "7.8\n",
      "The student has passed with second division\n"
     ]
    }
   ],
   "source": [
    "grade = float(input('Enter the student\\'s grade \\n'))\n",
    "\n",
    "first_div = 8.0\n",
    "second_div = 6.0\n",
    "passing = 4\n",
    "\n",
    "if (grade >=first_div):\n",
    "    print('The student has passed with first division')\n",
    "elif (second_div <= grade < first_div):\n",
    "    print('The student has passed with second division')\n",
    "elif (passing <= grade < second_div):\n",
    "    print('The student has passed')\n",
    "else:\n",
    "    print('The student has failed')"
   ]
  },
  {
   "cell_type": "markdown",
   "metadata": {},
   "source": [
    "# 11. \n",
    "# teamA = {'India', 'Australia','Pakistan', 'England'}\n",
    "# teamB = {'Bangladesh', 'New Zealand', 'West Indies', 'India'}\n",
    "\n",
    "# 12. use add, clear, copy, difference, differenc_update(), discard, intersection, intersection_update, \n",
    "\n",
    "# 13. remove, symmetric_difference,  union, update"
   ]
  },
  {
   "cell_type": "code",
   "execution_count": 13,
   "metadata": {},
   "outputs": [],
   "source": [
    "teamA = {'India', 'Australia', 'Pakistan', 'England'}\n",
    "teamB = {'Bangladesh', 'New Zealand', 'West Indies', 'India'}"
   ]
  },
  {
   "cell_type": "markdown",
   "metadata": {},
   "source": [
    "add operation"
   ]
  },
  {
   "cell_type": "code",
   "execution_count": 14,
   "metadata": {},
   "outputs": [
    {
     "name": "stdout",
     "output_type": "stream",
     "text": [
      "{'Pakistan', 'USA', 'England', 'India', 'Australia'}\n"
     ]
    }
   ],
   "source": [
    "teamA.add('USA')\n",
    "print(teamA)\n"
   ]
  },
  {
   "cell_type": "code",
   "execution_count": 15,
   "metadata": {},
   "outputs": [
    {
     "name": "stdout",
     "output_type": "stream",
     "text": [
      "{'New Zealand', 'West Indies', 'Bangladesh', 'India'}\n"
     ]
    }
   ],
   "source": [
    "teamB_copy = teamB.copy()\n",
    "print(teamB)"
   ]
  },
  {
   "cell_type": "markdown",
   "metadata": {},
   "source": [
    "difference operation"
   ]
  },
  {
   "cell_type": "code",
   "execution_count": 16,
   "metadata": {},
   "outputs": [
    {
     "name": "stdout",
     "output_type": "stream",
     "text": [
      "{'England', 'Australia', 'Pakistan', 'USA'}\n"
     ]
    }
   ],
   "source": [
    "print(teamA.difference(teamB))"
   ]
  },
  {
   "cell_type": "markdown",
   "metadata": {},
   "source": [
    "difference_update operation"
   ]
  },
  {
   "cell_type": "code",
   "execution_count": 17,
   "metadata": {},
   "outputs": [
    {
     "name": "stdout",
     "output_type": "stream",
     "text": [
      "{'Pakistan', 'USA', 'England', 'Australia'}\n"
     ]
    }
   ],
   "source": [
    "teamA.difference_update(teamB)\n",
    "print(teamA)"
   ]
  },
  {
   "cell_type": "markdown",
   "metadata": {},
   "source": [
    "discard operation"
   ]
  },
  {
   "cell_type": "code",
   "execution_count": 18,
   "metadata": {},
   "outputs": [
    {
     "name": "stdout",
     "output_type": "stream",
     "text": [
      "{'Pakistan', 'Australia', 'England'}\n"
     ]
    }
   ],
   "source": [
    "teamA = {'India', 'Australia', 'Pakistan', 'England'}\n",
    "teamA.discard('India')\n",
    "print(teamA)"
   ]
  },
  {
   "cell_type": "markdown",
   "metadata": {},
   "source": [
    "intersection operation"
   ]
  },
  {
   "cell_type": "code",
   "execution_count": 19,
   "metadata": {},
   "outputs": [
    {
     "name": "stdout",
     "output_type": "stream",
     "text": [
      "{'India'}\n"
     ]
    }
   ],
   "source": [
    "teamA = {'India', 'Australia', 'Pakistan', 'England'}\n",
    "teamB = {'Bangladesh', 'New Zealand', 'West Indies', 'India'}\n",
    "\n",
    "print(teamA.intersection(teamB))"
   ]
  },
  {
   "cell_type": "markdown",
   "metadata": {},
   "source": [
    "intersection_update operation"
   ]
  },
  {
   "cell_type": "code",
   "execution_count": 20,
   "metadata": {},
   "outputs": [
    {
     "name": "stdout",
     "output_type": "stream",
     "text": [
      "{'India'}\n"
     ]
    }
   ],
   "source": [
    "teamA = {'India', 'Australia', 'Pakistan', 'England'}\n",
    "teamB = {'Bangladesh', 'New Zealand', 'West Indies', 'India'}\n",
    "\n",
    "teamA.intersection_update(teamB)\n",
    "print(teamA)"
   ]
  },
  {
   "cell_type": "markdown",
   "metadata": {},
   "source": [
    "remove operation"
   ]
  },
  {
   "cell_type": "code",
   "execution_count": 21,
   "metadata": {},
   "outputs": [
    {
     "name": "stdout",
     "output_type": "stream",
     "text": [
      "{'Pakistan', 'Australia', 'England'}\n"
     ]
    }
   ],
   "source": [
    "teamA = {'India', 'Australia', 'Pakistan', 'England'}\n",
    "teamB = {'Bangladesh', 'New Zealand', 'West Indies', 'India'}\n",
    "\n",
    "teamA.remove('India')\n",
    "print(teamA)"
   ]
  },
  {
   "cell_type": "markdown",
   "metadata": {},
   "source": [
    "symmetric differnce operation"
   ]
  },
  {
   "cell_type": "code",
   "execution_count": 22,
   "metadata": {},
   "outputs": [
    {
     "name": "stdout",
     "output_type": "stream",
     "text": [
      "{'Pakistan', 'England', 'West Indies', 'Bangladesh', 'Australia', 'New Zealand'}\n",
      "{'Pakistan', 'England', 'West Indies', 'Bangladesh', 'Australia', 'New Zealand'}\n"
     ]
    }
   ],
   "source": [
    "teamA = {'India', 'Australia', 'Pakistan', 'England'}\n",
    "teamB = {'Bangladesh', 'New Zealand', 'West Indies', 'India'}\n",
    "\n",
    "print(teamA.symmetric_difference(teamB))\n",
    "print(teamB.symmetric_difference(teamA)) #obviously they are equal"
   ]
  },
  {
   "cell_type": "markdown",
   "metadata": {},
   "source": [
    "# 14. What is list comprehension explain with 2 examples"
   ]
  },
  {
   "cell_type": "markdown",
   "metadata": {},
   "source": [
    "In general list comprehensions imply an creating list object using iterable variables using loops or conditional elements or both. This is helpful as in this way lists having large number of elements can be analysed. \n",
    "\n",
    "First example : "
   ]
  },
  {
   "cell_type": "code",
   "execution_count": 23,
   "metadata": {},
   "outputs": [
    {
     "name": "stdout",
     "output_type": "stream",
     "text": [
      "['India', 'Pakistan', 'England']\n"
     ]
    }
   ],
   "source": [
    "teamA = ['India', 'Australia', 'Pakistan', 'England']\n",
    "new_team = [team for team in teamA if team != 'Australia']\n",
    "print(new_team)"
   ]
  },
  {
   "cell_type": "markdown",
   "metadata": {},
   "source": [
    "In the above example we made a new list from 'teamA' using a 'for' loop to go through the elements of 'teamA' and we created a 'new_team' consisting of elements other than one inside the if clause. \n",
    "\n",
    "Second example :"
   ]
  },
  {
   "cell_type": "code",
   "execution_count": 24,
   "metadata": {},
   "outputs": [
    {
     "name": "stdout",
     "output_type": "stream",
     "text": [
      "number_1 : [6.0, 12.0, 18.0, 24.0, 30.0, 36.0, 42.0, 48.0]\n",
      "number_2 : [15.0, 30.0, 45.0]\n",
      "number_3 : [0.4, 0.2, 0.13333333333333333, 0.8, 0.4, 0.26666666666666666, 1.2, 0.6, 0.4, 1.6, 0.8, 0.5333333333333333, 2.0, 1.0, 0.6666666666666666, 2.4, 1.2, 0.8, 2.8, 1.4, 0.9333333333333333, 3.2, 1.6, 1.0666666666666667]\n"
     ]
    }
   ],
   "source": [
    "\n",
    "number_1 = [float(x) for x in range(1,50) if ((x%2 == 0) and (x%3 == 0))]\n",
    "number_2 = [float(x) for x in range(1,50) if ((x%5 == 0) and (x%3 == 0))]\n",
    "\n",
    "number_3 = [float(x/y) for x in number_1 for y in number_2]\n",
    "print('number_1 :',number_1)\n",
    "print('number_2 :',number_2)\n",
    "print('number_3 :',number_3)"
   ]
  },
  {
   "cell_type": "markdown",
   "metadata": {},
   "source": [
    "In the above example we created two lists via list comprehension technique. The list 'number_1' contain all\n",
    "the integer numbers between 1 and 50 that are both divisible by 2 and 3. Similarly the 'number_2' contain \n",
    "all the ineger numbers in the same range that are both divisible by 5 and 3. We then created an another list\n",
    "'number_3' where each element of 'number_1' is divided by elements of 'number_2'"
   ]
  },
  {
   "cell_type": "markdown",
   "metadata": {},
   "source": [
    "# 15. What is the difference between a list and a tuple, explain with example"
   ]
  },
  {
   "cell_type": "markdown",
   "metadata": {},
   "source": [
    "We note that both, lists and tuples are collections of unordered elements (Eg. stings, integers, floats, even lists or tuples, etc.). Both of them can contain elements that are identical. However there is key differences between them. The elements of a list are changeble while the content of the tuple are not changle. We show this via a simple example in below. "
   ]
  },
  {
   "cell_type": "code",
   "execution_count": 25,
   "metadata": {},
   "outputs": [
    {
     "name": "stdout",
     "output_type": "stream",
     "text": [
      "['ironman', 'hulk', 'antman', 1, 2, 2, 55.6, ['scarlet witch', 'vision'], ['thor', 'stormbreaker']]\n",
      "('ironman', 'hulk', 'antman', 1, 2, 2, 55.6, ['scarlet witch', 'vision'], ['thor', 'stormbreaker'])\n",
      "['ironman', 'hulk', 'antman', 1, 2, 2, 55.6, ['scarlet witch', 'vision'], ['thor', 'stormbreaker'], ['skynet']]\n"
     ]
    },
    {
     "ename": "AttributeError",
     "evalue": "'tuple' object has no attribute 'append'",
     "output_type": "error",
     "traceback": [
      "\u001b[0;31m---------------------------------------------------------------------------\u001b[0m",
      "\u001b[0;31mAttributeError\u001b[0m                            Traceback (most recent call last)",
      "\u001b[0;32m<ipython-input-25-eb92f062c50d>\u001b[0m in \u001b[0;36m<module>\u001b[0;34m\u001b[0m\n\u001b[1;32m      8\u001b[0m \u001b[0mprint\u001b[0m\u001b[0;34m(\u001b[0m\u001b[0mA_list\u001b[0m\u001b[0;34m)\u001b[0m\u001b[0;34m\u001b[0m\u001b[0;34m\u001b[0m\u001b[0m\n\u001b[1;32m      9\u001b[0m \u001b[0;34m\u001b[0m\u001b[0m\n\u001b[0;32m---> 10\u001b[0;31m \u001b[0mA_tuple\u001b[0m\u001b[0;34m.\u001b[0m\u001b[0mappend\u001b[0m\u001b[0;34m(\u001b[0m\u001b[0;34m[\u001b[0m\u001b[0;34m'skynet'\u001b[0m\u001b[0;34m]\u001b[0m\u001b[0;34m)\u001b[0m\u001b[0;34m\u001b[0m\u001b[0;34m\u001b[0m\u001b[0m\n\u001b[0m\u001b[1;32m     11\u001b[0m \u001b[0mprint\u001b[0m\u001b[0;34m(\u001b[0m\u001b[0mA_tuple\u001b[0m\u001b[0;34m)\u001b[0m\u001b[0;34m\u001b[0m\u001b[0;34m\u001b[0m\u001b[0m\n",
      "\u001b[0;31mAttributeError\u001b[0m: 'tuple' object has no attribute 'append'"
     ]
    }
   ],
   "source": [
    "A_list = ['ironman', 'hulk', 'antman', 1, 2, 2, 55.6, ['scarlet witch', 'vision'], ['thor', 'stormbreaker']]\n",
    "A_tuple = ('ironman', 'hulk', 'antman', 1, 2, 2, 55.6, ['scarlet witch', 'vision'], ['thor', 'stormbreaker'])\n",
    "\n",
    "print(A_list)\n",
    "print(A_tuple)\n",
    "\n",
    "A_list.append(['skynet'])\n",
    "print(A_list)\n",
    "\n",
    "A_tuple.append(['skynet'])\n",
    "print(A_tuple)"
   ]
  },
  {
   "cell_type": "markdown",
   "metadata": {},
   "source": [
    "As we can observe above python show error while trying to add 'skynet' in 'A_tuple'"
   ]
  },
  {
   "cell_type": "markdown",
   "metadata": {},
   "source": [
    "# 16. What is the output of :"
   ]
  },
  {
   "cell_type": "markdown",
   "metadata": {},
   "source": [
    "if 1 and 0:"
   ]
  },
  {
   "cell_type": "markdown",
   "metadata": {},
   "source": [
    "   print(\"Sucess 1 and 0\")"
   ]
  },
  {
   "cell_type": "markdown",
   "metadata": {},
   "source": [
    "elif 0 and 0:"
   ]
  },
  {
   "cell_type": "markdown",
   "metadata": {},
   "source": [
    "   print(\"Sucess 0 and 0\")"
   ]
  },
  {
   "cell_type": "markdown",
   "metadata": {},
   "source": [
    "elif 0 and 1 or 1:"
   ]
  },
  {
   "cell_type": "markdown",
   "metadata": {},
   "source": [
    "   print(\"Sucess 0 and 1 or 1\")"
   ]
  },
  {
   "cell_type": "markdown",
   "metadata": {},
   "source": [
    "elif 0 and 0 or 1 and 1:"
   ]
  },
  {
   "cell_type": "markdown",
   "metadata": {},
   "source": [
    "   print(\"Sucess : 0 and 0 or 1 and 1\")\n",
    "   \n",
    "ANS : In the first 'if' condition '1 and 0' results in 0. Therefore the control of code goes to the next \n",
    "'elif' condition. Here since the output of '0 and 0' is 0, the control goes to the next 'elif' condition.\n",
    "Here the output of '0 and 1 or 1' is 1 as '0 and 1' results in 0 and '0 or 1' is 1. Therefore the output of the above code is 'Success 0 and 1 or 1'. We run the above code below to verify it."
   ]
  },
  {
   "cell_type": "code",
   "execution_count": 7,
   "metadata": {},
   "outputs": [
    {
     "name": "stdout",
     "output_type": "stream",
     "text": [
      "Sucess 0 and 1 or 1\n"
     ]
    }
   ],
   "source": [
    "if 1 and 0:\n",
    "    print(\"Sucess 1 and 0\")\n",
    "elif 0 and 0:\n",
    "    print(\"Sucess 0 and 0\")\n",
    "elif 0 and 1 or 1:\n",
    "    print(\"Sucess 0 and 1 or 1\")\n",
    "elif 0 and 0 or 1 and 1:\n",
    "    print(\"Sucess : 0 and 0 or 1 and 1\")\n"
   ]
  },
  {
   "cell_type": "markdown",
   "metadata": {},
   "source": [
    "# 17. What is the output of the following code.\n",
    "\n",
    "list_of_lists = [[10, 20, 30], [40, 50, 60], [70, 80, 90]]\n",
    "\n",
    "for list1 in list_of_lists: \n",
    "\n",
    "    for x in list1: \n",
    "    \n",
    "        print(x)\n",
    "    \n",
    "    print(list1)\n",
    "\n",
    "ANS : In the first 'for' loop, the variable 'list1' each of the lists in the 'list_of_lists', then the in next\n",
    "'for' loop the variable 'x' goes through the content of list in the variable 'list1'. In the next step the content of 'x' is printed which is the content of the list in 'list1'. After the execution of second 'for' loop the content of 'list1' is printed. Then the first 'for' loop runs for the second list in the 'list_of_lists' till the last list. This verified from the output of the code. \n"
   ]
  },
  {
   "cell_type": "code",
   "execution_count": 11,
   "metadata": {},
   "outputs": [
    {
     "name": "stdout",
     "output_type": "stream",
     "text": [
      "10\n",
      "20\n",
      "30\n",
      "[10, 20, 30]\n",
      "40\n",
      "50\n",
      "60\n",
      "[40, 50, 60]\n",
      "70\n",
      "80\n",
      "90\n",
      "[70, 80, 90]\n"
     ]
    }
   ],
   "source": [
    "list_of_lists = [[10, 20, 30], [40, 50, 60], [70, 80, 90]]\n",
    "\n",
    "for list1 in list_of_lists: \n",
    "    for x in list1: \n",
    "        print(x)\n",
    "    print(list1)\n",
    "\n",
    "\n"
   ]
  },
  {
   "cell_type": "markdown",
   "metadata": {},
   "source": [
    "# 18. print  the numpy version and the configuration"
   ]
  },
  {
   "cell_type": "code",
   "execution_count": 45,
   "metadata": {},
   "outputs": [
    {
     "name": "stdout",
     "output_type": "stream",
     "text": [
      "The version of numpy is :  1.17.3\n",
      "blas_mkl_info:\n",
      "  NOT AVAILABLE\n",
      "blis_info:\n",
      "  NOT AVAILABLE\n",
      "openblas_info:\n",
      "    libraries = ['openblas', 'openblas']\n",
      "    library_dirs = ['/usr/local/lib']\n",
      "    language = c\n",
      "    define_macros = [('HAVE_CBLAS', None)]\n",
      "blas_opt_info:\n",
      "    libraries = ['openblas', 'openblas']\n",
      "    library_dirs = ['/usr/local/lib']\n",
      "    language = c\n",
      "    define_macros = [('HAVE_CBLAS', None)]\n",
      "lapack_mkl_info:\n",
      "  NOT AVAILABLE\n",
      "openblas_lapack_info:\n",
      "    libraries = ['openblas', 'openblas']\n",
      "    library_dirs = ['/usr/local/lib']\n",
      "    language = c\n",
      "    define_macros = [('HAVE_CBLAS', None)]\n",
      "lapack_opt_info:\n",
      "    libraries = ['openblas', 'openblas']\n",
      "    library_dirs = ['/usr/local/lib']\n",
      "    language = c\n",
      "    define_macros = [('HAVE_CBLAS', None)]\n",
      "The configuration of numpy is :  None\n"
     ]
    }
   ],
   "source": [
    "import numpy as np\n",
    "print('The version of numpy is : ',np.version.version)\n",
    "print('The configuration of numpy is : ',np.show_config())"
   ]
  },
  {
   "cell_type": "markdown",
   "metadata": {},
   "source": [
    "# 19. Create a vector with values ranging from 10 to 29"
   ]
  },
  {
   "cell_type": "code",
   "execution_count": 46,
   "metadata": {},
   "outputs": [
    {
     "name": "stdout",
     "output_type": "stream",
     "text": [
      "[10 11 12 13 14 15 16 17 18 19 20 21 22 23 24 25 26 27 28 29]\n",
      "<class 'numpy.ndarray'>\n"
     ]
    }
   ],
   "source": [
    "Vector = np.arange(10, 30, 1)\n",
    "print(Vector)\n",
    "print(type(Vector))"
   ]
  },
  {
   "cell_type": "markdown",
   "metadata": {},
   "source": [
    "# 20. Create a 3x3 matrix with values ranging from 0 to 8 "
   ]
  },
  {
   "cell_type": "code",
   "execution_count": 51,
   "metadata": {},
   "outputs": [
    {
     "name": "stdout",
     "output_type": "stream",
     "text": [
      "[[0 1 2]\n",
      " [3 4 5]\n",
      " [6 7 8]]\n",
      "2\n"
     ]
    }
   ],
   "source": [
    "matrix = np.array([[0, 1, 2], [3, 4, 5], [6, 7, 8]])\n",
    "print(matrix)\n",
    "print(matrix.ndim)"
   ]
  },
  {
   "cell_type": "markdown",
   "metadata": {},
   "source": [
    "# 21. Create a 10x10 array with random values and find the minimum and maximum values"
   ]
  },
  {
   "cell_type": "code",
   "execution_count": 62,
   "metadata": {},
   "outputs": [
    {
     "name": "stdout",
     "output_type": "stream",
     "text": [
      "[[0.76319507 0.84247502 0.59284143 0.0740451  0.82367462 0.50143417\n",
      "  0.18767802 0.67988504 0.8558072  0.90313514]\n",
      " [0.7744469  0.41369141 0.66837499 0.20062953 0.03243708 0.75561596\n",
      "  0.20965637 0.25167261 0.32154383 0.94180905]\n",
      " [0.05729208 0.40535826 0.55403649 0.96924076 0.53565802 0.82717682\n",
      "  0.28149794 0.68234199 0.62178347 0.09141002]\n",
      " [0.6986701  0.87816932 0.61922583 0.1962197  0.77675506 0.27816812\n",
      "  0.94130097 0.41172047 0.61272174 0.65529948]\n",
      " [0.91764585 0.44446464 0.43157421 0.10105822 0.22949388 0.18948248\n",
      "  0.47410015 0.40150888 0.96722662 0.47593873]\n",
      " [0.65501046 0.83572741 0.16990253 0.26786762 0.00825486 0.17330531\n",
      "  0.93225557 0.74003118 0.35117399 0.1773351 ]\n",
      " [0.14267898 0.76434261 0.81638505 0.02795705 0.72580516 0.06587277\n",
      "  0.39692878 0.28451275 0.93930528 0.35997853]\n",
      " [0.496919   0.8363649  0.14322123 0.30779106 0.03655843 0.80726099\n",
      "  0.49979033 0.41088122 0.36832851 0.53802787]\n",
      " [0.53245611 0.77490075 0.55213509 0.94418498 0.94998311 0.76675022\n",
      "  0.30955244 0.13807507 0.14495616 0.08531238]\n",
      " [0.05207094 0.92366055 0.81103177 0.44455935 0.81200735 0.57518941\n",
      "  0.07924517 0.18457562 0.34802693 0.19900734]] \n",
      "\n",
      "The shape of the matrix is : (10, 10)\n"
     ]
    }
   ],
   "source": [
    "Random = np.random.random((10, 10))\n",
    "print(Random,'\\n')\n",
    "print('The shape of the matrix is :',Random.shape)"
   ]
  },
  {
   "cell_type": "markdown",
   "metadata": {},
   "source": [
    "Maximum value"
   ]
  },
  {
   "cell_type": "code",
   "execution_count": 58,
   "metadata": {},
   "outputs": [
    {
     "name": "stdout",
     "output_type": "stream",
     "text": [
      "0.9937506972574608\n"
     ]
    }
   ],
   "source": [
    "print(Random.max())"
   ]
  },
  {
   "cell_type": "markdown",
   "metadata": {},
   "source": [
    "Minimum value"
   ]
  },
  {
   "cell_type": "code",
   "execution_count": 59,
   "metadata": {},
   "outputs": [
    {
     "name": "stdout",
     "output_type": "stream",
     "text": [
      "0.009345055011570014\n"
     ]
    }
   ],
   "source": [
    "print(Random.min())"
   ]
  },
  {
   "cell_type": "markdown",
   "metadata": {},
   "source": [
    "# 22. Create a random vector of size 30 and find the mean and median value value"
   ]
  },
  {
   "cell_type": "code",
   "execution_count": 72,
   "metadata": {},
   "outputs": [
    {
     "name": "stdout",
     "output_type": "stream",
     "text": [
      "[[0.28122332 0.48778657 0.66520084 0.52175626 0.72641971 0.39926442\n",
      "  0.67051309 0.1306334  0.55895332 0.29517887 0.63580058 0.240843\n",
      "  0.29820756 0.12100451 0.35043703 0.67246261 0.17887785 0.39429153\n",
      "  0.66147943 0.5993021  0.48784355 0.2609841  0.41489042 0.92775995\n",
      "  0.92948454 0.49195228 0.62077398 0.03465374 0.17192127 0.15131485]] \n",
      "\n"
     ]
    }
   ],
   "source": [
    "Rand_vec = np.random.random((1, 30))\n",
    "print(Rand_vec,'\\n')"
   ]
  },
  {
   "cell_type": "markdown",
   "metadata": {},
   "source": [
    "Mean"
   ]
  },
  {
   "cell_type": "code",
   "execution_count": 73,
   "metadata": {},
   "outputs": [
    {
     "name": "stdout",
     "output_type": "stream",
     "text": [
      "0.4460404893849553\n"
     ]
    }
   ],
   "source": [
    "print(np.mean(Rand_vec))"
   ]
  },
  {
   "cell_type": "markdown",
   "metadata": {},
   "source": [
    "Median"
   ]
  },
  {
   "cell_type": "code",
   "execution_count": 74,
   "metadata": {},
   "outputs": [
    {
     "name": "stdout",
     "output_type": "stream",
     "text": [
      "0.4513384961655064\n"
     ]
    }
   ],
   "source": [
    "print(np.median(Rand_vec))"
   ]
  },
  {
   "cell_type": "markdown",
   "metadata": {},
   "source": [
    "# 23. Define an array and mind the max value and index of max value"
   ]
  },
  {
   "cell_type": "code",
   "execution_count": 89,
   "metadata": {},
   "outputs": [],
   "source": [
    "Array_1 = np.array([1, 2, 32, 43, 54, 21, 43, 35, 21, 32, 32, 3])"
   ]
  },
  {
   "cell_type": "markdown",
   "metadata": {},
   "source": [
    "Maximum value"
   ]
  },
  {
   "cell_type": "code",
   "execution_count": 90,
   "metadata": {},
   "outputs": [
    {
     "name": "stdout",
     "output_type": "stream",
     "text": [
      "54\n"
     ]
    }
   ],
   "source": [
    "print(Array_1.max())"
   ]
  },
  {
   "cell_type": "markdown",
   "metadata": {},
   "source": [
    "Index of the maximum value "
   ]
  },
  {
   "cell_type": "code",
   "execution_count": 91,
   "metadata": {},
   "outputs": [
    {
     "name": "stdout",
     "output_type": "stream",
     "text": [
      "4\n"
     ]
    }
   ],
   "source": [
    "print(Array_1.argmax())"
   ]
  },
  {
   "cell_type": "code",
   "execution_count": 92,
   "metadata": {},
   "outputs": [
    {
     "name": "stdout",
     "output_type": "stream",
     "text": [
      "12\n"
     ]
    }
   ],
   "source": [
    "print(Array_1.__len__())"
   ]
  },
  {
   "cell_type": "markdown",
   "metadata": {},
   "source": [
    "# 24. How to find the memory size of any array\n",
    "\n",
    "The 'nbytes' command is an easy way to do this. The output of this command provides us with the total \n",
    "bytes required to store the array in the memory."
   ]
  },
  {
   "cell_type": "code",
   "execution_count": 101,
   "metadata": {},
   "outputs": [
    {
     "name": "stdout",
     "output_type": "stream",
     "text": [
      "[[0.49118327 0.65098903 0.88760831 0.44751966 0.94656483 0.91407039\n",
      "  0.56535973 0.30909898 0.80230258 0.79989882 0.95277274 0.86095545\n",
      "  0.08961514 0.2433522  0.82455214 0.92394652 0.81251521 0.06285106\n",
      "  0.22130416 0.91995745]] \n",
      "\n",
      "The memory size to store 'Array_2' is 160 bytes\n"
     ]
    }
   ],
   "source": [
    "Array_2 = np.random.random((1, 20))\n",
    "print(Array_2,'\\n')\n",
    "print('The memory size to store \\'Array_2\\' is',Array_2.nbytes,'bytes')"
   ]
  },
  {
   "cell_type": "markdown",
   "metadata": {},
   "source": [
    "# 25. Create a 3x3 identity matrix"
   ]
  },
  {
   "cell_type": "code",
   "execution_count": 102,
   "metadata": {},
   "outputs": [
    {
     "name": "stdout",
     "output_type": "stream",
     "text": [
      "[[1. 0. 0.]\n",
      " [0. 1. 0.]\n",
      " [0. 0. 1.]]\n"
     ]
    }
   ],
   "source": [
    "Identity = np.eye(3)\n",
    "print(Identity)              \n"
   ]
  }
 ],
 "metadata": {
  "kernelspec": {
   "display_name": "Python 3",
   "language": "python",
   "name": "python3"
  },
  "language_info": {
   "codemirror_mode": {
    "name": "ipython",
    "version": 3
   },
   "file_extension": ".py",
   "mimetype": "text/x-python",
   "name": "python",
   "nbconvert_exporter": "python",
   "pygments_lexer": "ipython3",
   "version": "3.7.4"
  }
 },
 "nbformat": 4,
 "nbformat_minor": 2
}
