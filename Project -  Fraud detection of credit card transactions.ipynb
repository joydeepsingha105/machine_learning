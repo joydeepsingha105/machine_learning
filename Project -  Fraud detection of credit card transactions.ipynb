{
 "cells": [
  {
   "cell_type": "markdown",
   "metadata": {},
   "source": [
    "In this project we build a model to detect fraudulent credit card transactions. For this purpose I have downloaded a dataset from https://www.kaggle.com/mlg-ulb/creditcardfraud. The data has 31 variables out of which 28 of them are independent anonimised variables $V1, V2, \\cdots, V28$ and the rest of them are time of transaction, amount of transaction and whether or not the transaction is a fraud or not. A fraudulent transaction is denoted as '0' and a legitimate transaction is denoted as '1'. "
   ]
  },
  {
   "cell_type": "code",
   "execution_count": 1,
   "metadata": {},
   "outputs": [
    {
     "name": "stdout",
     "output_type": "stream",
     "text": [
      "(284807, 31)\n",
      "Class\n",
      "0    284315\n",
      "1       492\n",
      "dtype: int64\n"
     ]
    },
    {
     "data": {
      "text/html": [
       "<div>\n",
       "<style scoped>\n",
       "    .dataframe tbody tr th:only-of-type {\n",
       "        vertical-align: middle;\n",
       "    }\n",
       "\n",
       "    .dataframe tbody tr th {\n",
       "        vertical-align: top;\n",
       "    }\n",
       "\n",
       "    .dataframe thead th {\n",
       "        text-align: right;\n",
       "    }\n",
       "</style>\n",
       "<table border=\"1\" class=\"dataframe\">\n",
       "  <thead>\n",
       "    <tr style=\"text-align: right;\">\n",
       "      <th></th>\n",
       "      <th>Time</th>\n",
       "      <th>V1</th>\n",
       "      <th>V2</th>\n",
       "      <th>V3</th>\n",
       "      <th>V4</th>\n",
       "      <th>V5</th>\n",
       "      <th>V6</th>\n",
       "      <th>V7</th>\n",
       "      <th>V8</th>\n",
       "      <th>V9</th>\n",
       "      <th>...</th>\n",
       "      <th>V21</th>\n",
       "      <th>V22</th>\n",
       "      <th>V23</th>\n",
       "      <th>V24</th>\n",
       "      <th>V25</th>\n",
       "      <th>V26</th>\n",
       "      <th>V27</th>\n",
       "      <th>V28</th>\n",
       "      <th>Amount</th>\n",
       "      <th>Class</th>\n",
       "    </tr>\n",
       "  </thead>\n",
       "  <tbody>\n",
       "    <tr>\n",
       "      <td>284787</td>\n",
       "      <td>172769.0</td>\n",
       "      <td>-1.029719</td>\n",
       "      <td>-1.110670</td>\n",
       "      <td>-0.636179</td>\n",
       "      <td>-0.840816</td>\n",
       "      <td>2.424360</td>\n",
       "      <td>-2.956733</td>\n",
       "      <td>0.283610</td>\n",
       "      <td>-0.332656</td>\n",
       "      <td>-0.247488</td>\n",
       "      <td>...</td>\n",
       "      <td>0.353722</td>\n",
       "      <td>0.488487</td>\n",
       "      <td>0.293632</td>\n",
       "      <td>0.107812</td>\n",
       "      <td>-0.935586</td>\n",
       "      <td>1.138216</td>\n",
       "      <td>0.025271</td>\n",
       "      <td>0.255347</td>\n",
       "      <td>9.99</td>\n",
       "      <td>0</td>\n",
       "    </tr>\n",
       "    <tr>\n",
       "      <td>284788</td>\n",
       "      <td>172770.0</td>\n",
       "      <td>2.007418</td>\n",
       "      <td>-0.280235</td>\n",
       "      <td>-0.208113</td>\n",
       "      <td>0.335261</td>\n",
       "      <td>-0.715798</td>\n",
       "      <td>-0.751373</td>\n",
       "      <td>-0.458972</td>\n",
       "      <td>-0.140140</td>\n",
       "      <td>0.959971</td>\n",
       "      <td>...</td>\n",
       "      <td>-0.208260</td>\n",
       "      <td>-0.430347</td>\n",
       "      <td>0.416765</td>\n",
       "      <td>0.064819</td>\n",
       "      <td>-0.608337</td>\n",
       "      <td>0.268436</td>\n",
       "      <td>-0.028069</td>\n",
       "      <td>-0.041367</td>\n",
       "      <td>3.99</td>\n",
       "      <td>0</td>\n",
       "    </tr>\n",
       "    <tr>\n",
       "      <td>284789</td>\n",
       "      <td>172770.0</td>\n",
       "      <td>-0.446951</td>\n",
       "      <td>1.302212</td>\n",
       "      <td>-0.168583</td>\n",
       "      <td>0.981577</td>\n",
       "      <td>0.578957</td>\n",
       "      <td>-0.605641</td>\n",
       "      <td>1.253430</td>\n",
       "      <td>-1.042610</td>\n",
       "      <td>-0.417116</td>\n",
       "      <td>...</td>\n",
       "      <td>0.851800</td>\n",
       "      <td>0.305268</td>\n",
       "      <td>-0.148093</td>\n",
       "      <td>-0.038712</td>\n",
       "      <td>0.010209</td>\n",
       "      <td>-0.362666</td>\n",
       "      <td>0.503092</td>\n",
       "      <td>0.229921</td>\n",
       "      <td>60.50</td>\n",
       "      <td>0</td>\n",
       "    </tr>\n",
       "    <tr>\n",
       "      <td>284790</td>\n",
       "      <td>172771.0</td>\n",
       "      <td>-0.515513</td>\n",
       "      <td>0.971950</td>\n",
       "      <td>-1.014580</td>\n",
       "      <td>-0.677037</td>\n",
       "      <td>0.912430</td>\n",
       "      <td>-0.316187</td>\n",
       "      <td>0.396137</td>\n",
       "      <td>0.532364</td>\n",
       "      <td>-0.224606</td>\n",
       "      <td>...</td>\n",
       "      <td>-0.280302</td>\n",
       "      <td>-0.849919</td>\n",
       "      <td>0.300245</td>\n",
       "      <td>0.000607</td>\n",
       "      <td>-0.376379</td>\n",
       "      <td>0.128660</td>\n",
       "      <td>-0.015205</td>\n",
       "      <td>-0.021486</td>\n",
       "      <td>9.81</td>\n",
       "      <td>0</td>\n",
       "    </tr>\n",
       "    <tr>\n",
       "      <td>284791</td>\n",
       "      <td>172774.0</td>\n",
       "      <td>-0.863506</td>\n",
       "      <td>0.874701</td>\n",
       "      <td>0.420358</td>\n",
       "      <td>-0.530365</td>\n",
       "      <td>0.356561</td>\n",
       "      <td>-1.046238</td>\n",
       "      <td>0.757051</td>\n",
       "      <td>0.230473</td>\n",
       "      <td>-0.506856</td>\n",
       "      <td>...</td>\n",
       "      <td>-0.108846</td>\n",
       "      <td>-0.480820</td>\n",
       "      <td>-0.074513</td>\n",
       "      <td>-0.003988</td>\n",
       "      <td>-0.113149</td>\n",
       "      <td>0.280378</td>\n",
       "      <td>-0.077310</td>\n",
       "      <td>0.023079</td>\n",
       "      <td>20.32</td>\n",
       "      <td>0</td>\n",
       "    </tr>\n",
       "    <tr>\n",
       "      <td>284792</td>\n",
       "      <td>172774.0</td>\n",
       "      <td>-0.724123</td>\n",
       "      <td>1.485216</td>\n",
       "      <td>-1.132218</td>\n",
       "      <td>-0.607190</td>\n",
       "      <td>0.709499</td>\n",
       "      <td>-0.482638</td>\n",
       "      <td>0.548393</td>\n",
       "      <td>0.343003</td>\n",
       "      <td>-0.226323</td>\n",
       "      <td>...</td>\n",
       "      <td>0.414621</td>\n",
       "      <td>1.307511</td>\n",
       "      <td>-0.059545</td>\n",
       "      <td>0.242669</td>\n",
       "      <td>-0.665424</td>\n",
       "      <td>-0.269869</td>\n",
       "      <td>-0.170579</td>\n",
       "      <td>-0.030692</td>\n",
       "      <td>3.99</td>\n",
       "      <td>0</td>\n",
       "    </tr>\n",
       "    <tr>\n",
       "      <td>284793</td>\n",
       "      <td>172775.0</td>\n",
       "      <td>1.971002</td>\n",
       "      <td>-0.699067</td>\n",
       "      <td>-1.697541</td>\n",
       "      <td>-0.617643</td>\n",
       "      <td>1.718797</td>\n",
       "      <td>3.911336</td>\n",
       "      <td>-1.259306</td>\n",
       "      <td>1.056209</td>\n",
       "      <td>1.315006</td>\n",
       "      <td>...</td>\n",
       "      <td>0.188758</td>\n",
       "      <td>0.694418</td>\n",
       "      <td>0.163002</td>\n",
       "      <td>0.726365</td>\n",
       "      <td>-0.058282</td>\n",
       "      <td>-0.191813</td>\n",
       "      <td>0.061858</td>\n",
       "      <td>-0.043716</td>\n",
       "      <td>4.99</td>\n",
       "      <td>0</td>\n",
       "    </tr>\n",
       "    <tr>\n",
       "      <td>284794</td>\n",
       "      <td>172777.0</td>\n",
       "      <td>-1.266580</td>\n",
       "      <td>-0.400461</td>\n",
       "      <td>0.956221</td>\n",
       "      <td>-0.723919</td>\n",
       "      <td>1.531993</td>\n",
       "      <td>-1.788600</td>\n",
       "      <td>0.314741</td>\n",
       "      <td>0.004704</td>\n",
       "      <td>0.013857</td>\n",
       "      <td>...</td>\n",
       "      <td>-0.157831</td>\n",
       "      <td>-0.883365</td>\n",
       "      <td>0.088485</td>\n",
       "      <td>-0.076790</td>\n",
       "      <td>-0.095833</td>\n",
       "      <td>0.132720</td>\n",
       "      <td>-0.028468</td>\n",
       "      <td>0.126494</td>\n",
       "      <td>0.89</td>\n",
       "      <td>0</td>\n",
       "    </tr>\n",
       "    <tr>\n",
       "      <td>284795</td>\n",
       "      <td>172778.0</td>\n",
       "      <td>-12.516732</td>\n",
       "      <td>10.187818</td>\n",
       "      <td>-8.476671</td>\n",
       "      <td>-2.510473</td>\n",
       "      <td>-4.586669</td>\n",
       "      <td>-1.394465</td>\n",
       "      <td>-3.632516</td>\n",
       "      <td>5.498583</td>\n",
       "      <td>4.893089</td>\n",
       "      <td>...</td>\n",
       "      <td>-0.944759</td>\n",
       "      <td>-1.565026</td>\n",
       "      <td>0.890675</td>\n",
       "      <td>-1.253276</td>\n",
       "      <td>1.786717</td>\n",
       "      <td>0.320763</td>\n",
       "      <td>2.090712</td>\n",
       "      <td>1.232864</td>\n",
       "      <td>9.87</td>\n",
       "      <td>0</td>\n",
       "    </tr>\n",
       "    <tr>\n",
       "      <td>284796</td>\n",
       "      <td>172780.0</td>\n",
       "      <td>1.884849</td>\n",
       "      <td>-0.143540</td>\n",
       "      <td>-0.999943</td>\n",
       "      <td>1.506772</td>\n",
       "      <td>-0.035300</td>\n",
       "      <td>-0.613638</td>\n",
       "      <td>0.190241</td>\n",
       "      <td>-0.249058</td>\n",
       "      <td>0.666458</td>\n",
       "      <td>...</td>\n",
       "      <td>0.144008</td>\n",
       "      <td>0.634646</td>\n",
       "      <td>-0.042114</td>\n",
       "      <td>-0.053206</td>\n",
       "      <td>0.316403</td>\n",
       "      <td>-0.461441</td>\n",
       "      <td>0.018265</td>\n",
       "      <td>-0.041068</td>\n",
       "      <td>60.00</td>\n",
       "      <td>0</td>\n",
       "    </tr>\n",
       "    <tr>\n",
       "      <td>284797</td>\n",
       "      <td>172782.0</td>\n",
       "      <td>-0.241923</td>\n",
       "      <td>0.712247</td>\n",
       "      <td>0.399806</td>\n",
       "      <td>-0.463406</td>\n",
       "      <td>0.244531</td>\n",
       "      <td>-1.343668</td>\n",
       "      <td>0.929369</td>\n",
       "      <td>-0.206210</td>\n",
       "      <td>0.106234</td>\n",
       "      <td>...</td>\n",
       "      <td>-0.228876</td>\n",
       "      <td>-0.514376</td>\n",
       "      <td>0.279598</td>\n",
       "      <td>0.371441</td>\n",
       "      <td>-0.559238</td>\n",
       "      <td>0.113144</td>\n",
       "      <td>0.131507</td>\n",
       "      <td>0.081265</td>\n",
       "      <td>5.49</td>\n",
       "      <td>0</td>\n",
       "    </tr>\n",
       "    <tr>\n",
       "      <td>284798</td>\n",
       "      <td>172782.0</td>\n",
       "      <td>0.219529</td>\n",
       "      <td>0.881246</td>\n",
       "      <td>-0.635891</td>\n",
       "      <td>0.960928</td>\n",
       "      <td>-0.152971</td>\n",
       "      <td>-1.014307</td>\n",
       "      <td>0.427126</td>\n",
       "      <td>0.121340</td>\n",
       "      <td>-0.285670</td>\n",
       "      <td>...</td>\n",
       "      <td>0.099936</td>\n",
       "      <td>0.337120</td>\n",
       "      <td>0.251791</td>\n",
       "      <td>0.057688</td>\n",
       "      <td>-1.508368</td>\n",
       "      <td>0.144023</td>\n",
       "      <td>0.181205</td>\n",
       "      <td>0.215243</td>\n",
       "      <td>24.05</td>\n",
       "      <td>0</td>\n",
       "    </tr>\n",
       "    <tr>\n",
       "      <td>284799</td>\n",
       "      <td>172783.0</td>\n",
       "      <td>-1.775135</td>\n",
       "      <td>-0.004235</td>\n",
       "      <td>1.189786</td>\n",
       "      <td>0.331096</td>\n",
       "      <td>1.196063</td>\n",
       "      <td>5.519980</td>\n",
       "      <td>-1.518185</td>\n",
       "      <td>2.080825</td>\n",
       "      <td>1.159498</td>\n",
       "      <td>...</td>\n",
       "      <td>0.103302</td>\n",
       "      <td>0.654850</td>\n",
       "      <td>-0.348929</td>\n",
       "      <td>0.745323</td>\n",
       "      <td>0.704545</td>\n",
       "      <td>-0.127579</td>\n",
       "      <td>0.454379</td>\n",
       "      <td>0.130308</td>\n",
       "      <td>79.99</td>\n",
       "      <td>0</td>\n",
       "    </tr>\n",
       "    <tr>\n",
       "      <td>284800</td>\n",
       "      <td>172784.0</td>\n",
       "      <td>2.039560</td>\n",
       "      <td>-0.175233</td>\n",
       "      <td>-1.196825</td>\n",
       "      <td>0.234580</td>\n",
       "      <td>-0.008713</td>\n",
       "      <td>-0.726571</td>\n",
       "      <td>0.017050</td>\n",
       "      <td>-0.118228</td>\n",
       "      <td>0.435402</td>\n",
       "      <td>...</td>\n",
       "      <td>-0.268048</td>\n",
       "      <td>-0.717211</td>\n",
       "      <td>0.297930</td>\n",
       "      <td>-0.359769</td>\n",
       "      <td>-0.315610</td>\n",
       "      <td>0.201114</td>\n",
       "      <td>-0.080826</td>\n",
       "      <td>-0.075071</td>\n",
       "      <td>2.68</td>\n",
       "      <td>0</td>\n",
       "    </tr>\n",
       "    <tr>\n",
       "      <td>284801</td>\n",
       "      <td>172785.0</td>\n",
       "      <td>0.120316</td>\n",
       "      <td>0.931005</td>\n",
       "      <td>-0.546012</td>\n",
       "      <td>-0.745097</td>\n",
       "      <td>1.130314</td>\n",
       "      <td>-0.235973</td>\n",
       "      <td>0.812722</td>\n",
       "      <td>0.115093</td>\n",
       "      <td>-0.204064</td>\n",
       "      <td>...</td>\n",
       "      <td>-0.314205</td>\n",
       "      <td>-0.808520</td>\n",
       "      <td>0.050343</td>\n",
       "      <td>0.102800</td>\n",
       "      <td>-0.435870</td>\n",
       "      <td>0.124079</td>\n",
       "      <td>0.217940</td>\n",
       "      <td>0.068803</td>\n",
       "      <td>2.69</td>\n",
       "      <td>0</td>\n",
       "    </tr>\n",
       "    <tr>\n",
       "      <td>284802</td>\n",
       "      <td>172786.0</td>\n",
       "      <td>-11.881118</td>\n",
       "      <td>10.071785</td>\n",
       "      <td>-9.834783</td>\n",
       "      <td>-2.066656</td>\n",
       "      <td>-5.364473</td>\n",
       "      <td>-2.606837</td>\n",
       "      <td>-4.918215</td>\n",
       "      <td>7.305334</td>\n",
       "      <td>1.914428</td>\n",
       "      <td>...</td>\n",
       "      <td>0.213454</td>\n",
       "      <td>0.111864</td>\n",
       "      <td>1.014480</td>\n",
       "      <td>-0.509348</td>\n",
       "      <td>1.436807</td>\n",
       "      <td>0.250034</td>\n",
       "      <td>0.943651</td>\n",
       "      <td>0.823731</td>\n",
       "      <td>0.77</td>\n",
       "      <td>0</td>\n",
       "    </tr>\n",
       "    <tr>\n",
       "      <td>284803</td>\n",
       "      <td>172787.0</td>\n",
       "      <td>-0.732789</td>\n",
       "      <td>-0.055080</td>\n",
       "      <td>2.035030</td>\n",
       "      <td>-0.738589</td>\n",
       "      <td>0.868229</td>\n",
       "      <td>1.058415</td>\n",
       "      <td>0.024330</td>\n",
       "      <td>0.294869</td>\n",
       "      <td>0.584800</td>\n",
       "      <td>...</td>\n",
       "      <td>0.214205</td>\n",
       "      <td>0.924384</td>\n",
       "      <td>0.012463</td>\n",
       "      <td>-1.016226</td>\n",
       "      <td>-0.606624</td>\n",
       "      <td>-0.395255</td>\n",
       "      <td>0.068472</td>\n",
       "      <td>-0.053527</td>\n",
       "      <td>24.79</td>\n",
       "      <td>0</td>\n",
       "    </tr>\n",
       "    <tr>\n",
       "      <td>284804</td>\n",
       "      <td>172788.0</td>\n",
       "      <td>1.919565</td>\n",
       "      <td>-0.301254</td>\n",
       "      <td>-3.249640</td>\n",
       "      <td>-0.557828</td>\n",
       "      <td>2.630515</td>\n",
       "      <td>3.031260</td>\n",
       "      <td>-0.296827</td>\n",
       "      <td>0.708417</td>\n",
       "      <td>0.432454</td>\n",
       "      <td>...</td>\n",
       "      <td>0.232045</td>\n",
       "      <td>0.578229</td>\n",
       "      <td>-0.037501</td>\n",
       "      <td>0.640134</td>\n",
       "      <td>0.265745</td>\n",
       "      <td>-0.087371</td>\n",
       "      <td>0.004455</td>\n",
       "      <td>-0.026561</td>\n",
       "      <td>67.88</td>\n",
       "      <td>0</td>\n",
       "    </tr>\n",
       "    <tr>\n",
       "      <td>284805</td>\n",
       "      <td>172788.0</td>\n",
       "      <td>-0.240440</td>\n",
       "      <td>0.530483</td>\n",
       "      <td>0.702510</td>\n",
       "      <td>0.689799</td>\n",
       "      <td>-0.377961</td>\n",
       "      <td>0.623708</td>\n",
       "      <td>-0.686180</td>\n",
       "      <td>0.679145</td>\n",
       "      <td>0.392087</td>\n",
       "      <td>...</td>\n",
       "      <td>0.265245</td>\n",
       "      <td>0.800049</td>\n",
       "      <td>-0.163298</td>\n",
       "      <td>0.123205</td>\n",
       "      <td>-0.569159</td>\n",
       "      <td>0.546668</td>\n",
       "      <td>0.108821</td>\n",
       "      <td>0.104533</td>\n",
       "      <td>10.00</td>\n",
       "      <td>0</td>\n",
       "    </tr>\n",
       "    <tr>\n",
       "      <td>284806</td>\n",
       "      <td>172792.0</td>\n",
       "      <td>-0.533413</td>\n",
       "      <td>-0.189733</td>\n",
       "      <td>0.703337</td>\n",
       "      <td>-0.506271</td>\n",
       "      <td>-0.012546</td>\n",
       "      <td>-0.649617</td>\n",
       "      <td>1.577006</td>\n",
       "      <td>-0.414650</td>\n",
       "      <td>0.486180</td>\n",
       "      <td>...</td>\n",
       "      <td>0.261057</td>\n",
       "      <td>0.643078</td>\n",
       "      <td>0.376777</td>\n",
       "      <td>0.008797</td>\n",
       "      <td>-0.473649</td>\n",
       "      <td>-0.818267</td>\n",
       "      <td>-0.002415</td>\n",
       "      <td>0.013649</td>\n",
       "      <td>217.00</td>\n",
       "      <td>0</td>\n",
       "    </tr>\n",
       "  </tbody>\n",
       "</table>\n",
       "<p>20 rows × 31 columns</p>\n",
       "</div>"
      ],
      "text/plain": [
       "            Time         V1         V2        V3        V4        V5  \\\n",
       "284787  172769.0  -1.029719  -1.110670 -0.636179 -0.840816  2.424360   \n",
       "284788  172770.0   2.007418  -0.280235 -0.208113  0.335261 -0.715798   \n",
       "284789  172770.0  -0.446951   1.302212 -0.168583  0.981577  0.578957   \n",
       "284790  172771.0  -0.515513   0.971950 -1.014580 -0.677037  0.912430   \n",
       "284791  172774.0  -0.863506   0.874701  0.420358 -0.530365  0.356561   \n",
       "284792  172774.0  -0.724123   1.485216 -1.132218 -0.607190  0.709499   \n",
       "284793  172775.0   1.971002  -0.699067 -1.697541 -0.617643  1.718797   \n",
       "284794  172777.0  -1.266580  -0.400461  0.956221 -0.723919  1.531993   \n",
       "284795  172778.0 -12.516732  10.187818 -8.476671 -2.510473 -4.586669   \n",
       "284796  172780.0   1.884849  -0.143540 -0.999943  1.506772 -0.035300   \n",
       "284797  172782.0  -0.241923   0.712247  0.399806 -0.463406  0.244531   \n",
       "284798  172782.0   0.219529   0.881246 -0.635891  0.960928 -0.152971   \n",
       "284799  172783.0  -1.775135  -0.004235  1.189786  0.331096  1.196063   \n",
       "284800  172784.0   2.039560  -0.175233 -1.196825  0.234580 -0.008713   \n",
       "284801  172785.0   0.120316   0.931005 -0.546012 -0.745097  1.130314   \n",
       "284802  172786.0 -11.881118  10.071785 -9.834783 -2.066656 -5.364473   \n",
       "284803  172787.0  -0.732789  -0.055080  2.035030 -0.738589  0.868229   \n",
       "284804  172788.0   1.919565  -0.301254 -3.249640 -0.557828  2.630515   \n",
       "284805  172788.0  -0.240440   0.530483  0.702510  0.689799 -0.377961   \n",
       "284806  172792.0  -0.533413  -0.189733  0.703337 -0.506271 -0.012546   \n",
       "\n",
       "              V6        V7        V8        V9  ...       V21       V22  \\\n",
       "284787 -2.956733  0.283610 -0.332656 -0.247488  ...  0.353722  0.488487   \n",
       "284788 -0.751373 -0.458972 -0.140140  0.959971  ... -0.208260 -0.430347   \n",
       "284789 -0.605641  1.253430 -1.042610 -0.417116  ...  0.851800  0.305268   \n",
       "284790 -0.316187  0.396137  0.532364 -0.224606  ... -0.280302 -0.849919   \n",
       "284791 -1.046238  0.757051  0.230473 -0.506856  ... -0.108846 -0.480820   \n",
       "284792 -0.482638  0.548393  0.343003 -0.226323  ...  0.414621  1.307511   \n",
       "284793  3.911336 -1.259306  1.056209  1.315006  ...  0.188758  0.694418   \n",
       "284794 -1.788600  0.314741  0.004704  0.013857  ... -0.157831 -0.883365   \n",
       "284795 -1.394465 -3.632516  5.498583  4.893089  ... -0.944759 -1.565026   \n",
       "284796 -0.613638  0.190241 -0.249058  0.666458  ...  0.144008  0.634646   \n",
       "284797 -1.343668  0.929369 -0.206210  0.106234  ... -0.228876 -0.514376   \n",
       "284798 -1.014307  0.427126  0.121340 -0.285670  ...  0.099936  0.337120   \n",
       "284799  5.519980 -1.518185  2.080825  1.159498  ...  0.103302  0.654850   \n",
       "284800 -0.726571  0.017050 -0.118228  0.435402  ... -0.268048 -0.717211   \n",
       "284801 -0.235973  0.812722  0.115093 -0.204064  ... -0.314205 -0.808520   \n",
       "284802 -2.606837 -4.918215  7.305334  1.914428  ...  0.213454  0.111864   \n",
       "284803  1.058415  0.024330  0.294869  0.584800  ...  0.214205  0.924384   \n",
       "284804  3.031260 -0.296827  0.708417  0.432454  ...  0.232045  0.578229   \n",
       "284805  0.623708 -0.686180  0.679145  0.392087  ...  0.265245  0.800049   \n",
       "284806 -0.649617  1.577006 -0.414650  0.486180  ...  0.261057  0.643078   \n",
       "\n",
       "             V23       V24       V25       V26       V27       V28  Amount  \\\n",
       "284787  0.293632  0.107812 -0.935586  1.138216  0.025271  0.255347    9.99   \n",
       "284788  0.416765  0.064819 -0.608337  0.268436 -0.028069 -0.041367    3.99   \n",
       "284789 -0.148093 -0.038712  0.010209 -0.362666  0.503092  0.229921   60.50   \n",
       "284790  0.300245  0.000607 -0.376379  0.128660 -0.015205 -0.021486    9.81   \n",
       "284791 -0.074513 -0.003988 -0.113149  0.280378 -0.077310  0.023079   20.32   \n",
       "284792 -0.059545  0.242669 -0.665424 -0.269869 -0.170579 -0.030692    3.99   \n",
       "284793  0.163002  0.726365 -0.058282 -0.191813  0.061858 -0.043716    4.99   \n",
       "284794  0.088485 -0.076790 -0.095833  0.132720 -0.028468  0.126494    0.89   \n",
       "284795  0.890675 -1.253276  1.786717  0.320763  2.090712  1.232864    9.87   \n",
       "284796 -0.042114 -0.053206  0.316403 -0.461441  0.018265 -0.041068   60.00   \n",
       "284797  0.279598  0.371441 -0.559238  0.113144  0.131507  0.081265    5.49   \n",
       "284798  0.251791  0.057688 -1.508368  0.144023  0.181205  0.215243   24.05   \n",
       "284799 -0.348929  0.745323  0.704545 -0.127579  0.454379  0.130308   79.99   \n",
       "284800  0.297930 -0.359769 -0.315610  0.201114 -0.080826 -0.075071    2.68   \n",
       "284801  0.050343  0.102800 -0.435870  0.124079  0.217940  0.068803    2.69   \n",
       "284802  1.014480 -0.509348  1.436807  0.250034  0.943651  0.823731    0.77   \n",
       "284803  0.012463 -1.016226 -0.606624 -0.395255  0.068472 -0.053527   24.79   \n",
       "284804 -0.037501  0.640134  0.265745 -0.087371  0.004455 -0.026561   67.88   \n",
       "284805 -0.163298  0.123205 -0.569159  0.546668  0.108821  0.104533   10.00   \n",
       "284806  0.376777  0.008797 -0.473649 -0.818267 -0.002415  0.013649  217.00   \n",
       "\n",
       "        Class  \n",
       "284787      0  \n",
       "284788      0  \n",
       "284789      0  \n",
       "284790      0  \n",
       "284791      0  \n",
       "284792      0  \n",
       "284793      0  \n",
       "284794      0  \n",
       "284795      0  \n",
       "284796      0  \n",
       "284797      0  \n",
       "284798      0  \n",
       "284799      0  \n",
       "284800      0  \n",
       "284801      0  \n",
       "284802      0  \n",
       "284803      0  \n",
       "284804      0  \n",
       "284805      0  \n",
       "284806      0  \n",
       "\n",
       "[20 rows x 31 columns]"
      ]
     },
     "execution_count": 1,
     "metadata": {},
     "output_type": "execute_result"
    }
   ],
   "source": [
    "import pandas as pd\n",
    "import seaborn as sns \n",
    "import matplotlib.pyplot as plt \n",
    "import numpy as np\n",
    "import seaborn as sns \n",
    "import matplotlib.pyplot as plt \n",
    "\n",
    "cc = pd.read_csv('creditcard.csv')\n",
    "print(cc.shape)\n",
    "print(cc.groupby(['Class']).size())\n",
    "cc.tail(20)"
   ]
  },
  {
   "cell_type": "markdown",
   "metadata": {},
   "source": [
    "So the data set contains 284807 transaction and 492 of them are actually fraudulent. Clearly the number of fraud transactions are much less. "
   ]
  },
  {
   "cell_type": "code",
   "execution_count": 2,
   "metadata": {},
   "outputs": [
    {
     "data": {
      "text/html": [
       "<div>\n",
       "<style scoped>\n",
       "    .dataframe tbody tr th:only-of-type {\n",
       "        vertical-align: middle;\n",
       "    }\n",
       "\n",
       "    .dataframe tbody tr th {\n",
       "        vertical-align: top;\n",
       "    }\n",
       "\n",
       "    .dataframe thead th {\n",
       "        text-align: right;\n",
       "    }\n",
       "</style>\n",
       "<table border=\"1\" class=\"dataframe\">\n",
       "  <thead>\n",
       "    <tr style=\"text-align: right;\">\n",
       "      <th></th>\n",
       "      <th>Amount</th>\n",
       "    </tr>\n",
       "  </thead>\n",
       "  <tbody>\n",
       "    <tr>\n",
       "      <td>count</td>\n",
       "      <td>284315.000000</td>\n",
       "    </tr>\n",
       "    <tr>\n",
       "      <td>mean</td>\n",
       "      <td>88.291022</td>\n",
       "    </tr>\n",
       "    <tr>\n",
       "      <td>std</td>\n",
       "      <td>250.105092</td>\n",
       "    </tr>\n",
       "    <tr>\n",
       "      <td>min</td>\n",
       "      <td>0.000000</td>\n",
       "    </tr>\n",
       "    <tr>\n",
       "      <td>25%</td>\n",
       "      <td>5.650000</td>\n",
       "    </tr>\n",
       "    <tr>\n",
       "      <td>50%</td>\n",
       "      <td>22.000000</td>\n",
       "    </tr>\n",
       "    <tr>\n",
       "      <td>75%</td>\n",
       "      <td>77.050000</td>\n",
       "    </tr>\n",
       "    <tr>\n",
       "      <td>max</td>\n",
       "      <td>25691.160000</td>\n",
       "    </tr>\n",
       "  </tbody>\n",
       "</table>\n",
       "</div>"
      ],
      "text/plain": [
       "              Amount\n",
       "count  284315.000000\n",
       "mean       88.291022\n",
       "std       250.105092\n",
       "min         0.000000\n",
       "25%         5.650000\n",
       "50%        22.000000\n",
       "75%        77.050000\n",
       "max     25691.160000"
      ]
     },
     "execution_count": 2,
     "metadata": {},
     "output_type": "execute_result"
    },
    {
     "data": {
      "image/png": "[encoded data removed]",
      "text/plain": [
       "<Figure size 432x288 with 1 Axes>"
      ]
     },
     "metadata": {
      "needs_background": "light"
     },
     "output_type": "display_data"
    }
   ],
   "source": [
    "cond_legit = (cc['Class'] == 0)\n",
    "cc_1 = cc[cond_legit]\n",
    "sns.distplot(cc_1['Amount'])\n",
    "plt.xlabel\n",
    "plt.title('distribution of Amount for non-fraud transaction')\n",
    "cc_1.loc[:,['Amount']].describe()"
   ]
  },
  {
   "cell_type": "code",
   "execution_count": 3,
   "metadata": {},
   "outputs": [
    {
     "data": {
      "text/html": [
       "<div>\n",
       "<style scoped>\n",
       "    .dataframe tbody tr th:only-of-type {\n",
       "        vertical-align: middle;\n",
       "    }\n",
       "\n",
       "    .dataframe tbody tr th {\n",
       "        vertical-align: top;\n",
       "    }\n",
       "\n",
       "    .dataframe thead th {\n",
       "        text-align: right;\n",
       "    }\n",
       "</style>\n",
       "<table border=\"1\" class=\"dataframe\">\n",
       "  <thead>\n",
       "    <tr style=\"text-align: right;\">\n",
       "      <th></th>\n",
       "      <th>Amount</th>\n",
       "    </tr>\n",
       "  </thead>\n",
       "  <tbody>\n",
       "    <tr>\n",
       "      <td>count</td>\n",
       "      <td>492.000000</td>\n",
       "    </tr>\n",
       "    <tr>\n",
       "      <td>mean</td>\n",
       "      <td>122.211321</td>\n",
       "    </tr>\n",
       "    <tr>\n",
       "      <td>std</td>\n",
       "      <td>256.683288</td>\n",
       "    </tr>\n",
       "    <tr>\n",
       "      <td>min</td>\n",
       "      <td>0.000000</td>\n",
       "    </tr>\n",
       "    <tr>\n",
       "      <td>25%</td>\n",
       "      <td>1.000000</td>\n",
       "    </tr>\n",
       "    <tr>\n",
       "      <td>50%</td>\n",
       "      <td>9.250000</td>\n",
       "    </tr>\n",
       "    <tr>\n",
       "      <td>75%</td>\n",
       "      <td>105.890000</td>\n",
       "    </tr>\n",
       "    <tr>\n",
       "      <td>max</td>\n",
       "      <td>2125.870000</td>\n",
       "    </tr>\n",
       "  </tbody>\n",
       "</table>\n",
       "</div>"
      ],
      "text/plain": [
       "            Amount\n",
       "count   492.000000\n",
       "mean    122.211321\n",
       "std     256.683288\n",
       "min       0.000000\n",
       "25%       1.000000\n",
       "50%       9.250000\n",
       "75%     105.890000\n",
       "max    2125.870000"
      ]
     },
     "execution_count": 3,
     "metadata": {},
     "output_type": "execute_result"
    },
    {
     "data": {
      "image/png": "[encoded data removed]",
      "text/plain": [
       "<Figure size 432x288 with 1 Axes>"
      ]
     },
     "metadata": {
      "needs_background": "light"
     },
     "output_type": "display_data"
    }
   ],
   "source": [
    "cond_legit = (cc['Class'] == 1)\n",
    "cc_1 = cc[cond_legit]\n",
    "sns.distplot(cc_1['Amount'])\n",
    "plt.xlabel\n",
    "plt.title('distribution of Amount for non-fraud transaction')\n",
    "cc_1.loc[:,['Amount']].describe()"
   ]
  },
  {
   "cell_type": "markdown",
   "metadata": {},
   "source": [
    "The distribution of the transaction amount for non-fraud and frauds clearly indicate the fraud transaction have comparatively high amount. We normalise the 'Amount' column. We also remove the 'Time' column as this is similar to serial number of the transactions. "
   ]
  },
  {
   "cell_type": "code",
   "execution_count": 4,
   "metadata": {
    "scrolled": true
   },
   "outputs": [
    {
     "data": {
      "text/html": [
       "<div>\n",
       "<style scoped>\n",
       "    .dataframe tbody tr th:only-of-type {\n",
       "        vertical-align: middle;\n",
       "    }\n",
       "\n",
       "    .dataframe tbody tr th {\n",
       "        vertical-align: top;\n",
       "    }\n",
       "\n",
       "    .dataframe thead th {\n",
       "        text-align: right;\n",
       "    }\n",
       "</style>\n",
       "<table border=\"1\" class=\"dataframe\">\n",
       "  <thead>\n",
       "    <tr style=\"text-align: right;\">\n",
       "      <th></th>\n",
       "      <th>V1</th>\n",
       "      <th>V2</th>\n",
       "      <th>V3</th>\n",
       "      <th>V4</th>\n",
       "      <th>V5</th>\n",
       "      <th>V6</th>\n",
       "      <th>V7</th>\n",
       "      <th>V8</th>\n",
       "      <th>V9</th>\n",
       "      <th>V10</th>\n",
       "      <th>...</th>\n",
       "      <th>V21</th>\n",
       "      <th>V22</th>\n",
       "      <th>V23</th>\n",
       "      <th>V24</th>\n",
       "      <th>V25</th>\n",
       "      <th>V26</th>\n",
       "      <th>V27</th>\n",
       "      <th>V28</th>\n",
       "      <th>Class</th>\n",
       "      <th>ScaledAmount</th>\n",
       "    </tr>\n",
       "  </thead>\n",
       "  <tbody>\n",
       "    <tr>\n",
       "      <td>269376</td>\n",
       "      <td>-1.149626</td>\n",
       "      <td>0.290100</td>\n",
       "      <td>0.800955</td>\n",
       "      <td>-0.874896</td>\n",
       "      <td>0.104407</td>\n",
       "      <td>-0.196375</td>\n",
       "      <td>0.291360</td>\n",
       "      <td>0.340235</td>\n",
       "      <td>0.125264</td>\n",
       "      <td>-0.347661</td>\n",
       "      <td>...</td>\n",
       "      <td>-0.178369</td>\n",
       "      <td>-0.436627</td>\n",
       "      <td>0.200716</td>\n",
       "      <td>-0.504903</td>\n",
       "      <td>-0.830790</td>\n",
       "      <td>0.146447</td>\n",
       "      <td>-0.023386</td>\n",
       "      <td>-0.083270</td>\n",
       "      <td>0</td>\n",
       "      <td>-0.101470</td>\n",
       "    </tr>\n",
       "    <tr>\n",
       "      <td>158558</td>\n",
       "      <td>-0.047067</td>\n",
       "      <td>1.185354</td>\n",
       "      <td>0.052263</td>\n",
       "      <td>0.864272</td>\n",
       "      <td>1.587851</td>\n",
       "      <td>-0.072806</td>\n",
       "      <td>1.327893</td>\n",
       "      <td>-0.370286</td>\n",
       "      <td>0.622953</td>\n",
       "      <td>0.034035</td>\n",
       "      <td>...</td>\n",
       "      <td>-0.087930</td>\n",
       "      <td>0.451570</td>\n",
       "      <td>-0.423540</td>\n",
       "      <td>-0.853346</td>\n",
       "      <td>0.031887</td>\n",
       "      <td>-0.412668</td>\n",
       "      <td>0.243234</td>\n",
       "      <td>-0.003976</td>\n",
       "      <td>0</td>\n",
       "      <td>-0.345593</td>\n",
       "    </tr>\n",
       "    <tr>\n",
       "      <td>270915</td>\n",
       "      <td>-0.733319</td>\n",
       "      <td>1.601833</td>\n",
       "      <td>-1.253605</td>\n",
       "      <td>-0.660401</td>\n",
       "      <td>0.502782</td>\n",
       "      <td>0.126090</td>\n",
       "      <td>-0.709196</td>\n",
       "      <td>-2.040238</td>\n",
       "      <td>-0.534946</td>\n",
       "      <td>-1.348731</td>\n",
       "      <td>...</td>\n",
       "      <td>-1.539987</td>\n",
       "      <td>-0.489216</td>\n",
       "      <td>0.332146</td>\n",
       "      <td>0.124638</td>\n",
       "      <td>-0.487416</td>\n",
       "      <td>0.106293</td>\n",
       "      <td>0.053451</td>\n",
       "      <td>0.039653</td>\n",
       "      <td>0</td>\n",
       "      <td>-0.317127</td>\n",
       "    </tr>\n",
       "    <tr>\n",
       "      <td>88963</td>\n",
       "      <td>-4.888568</td>\n",
       "      <td>-3.631597</td>\n",
       "      <td>1.017981</td>\n",
       "      <td>1.114435</td>\n",
       "      <td>-0.807058</td>\n",
       "      <td>1.287679</td>\n",
       "      <td>1.187842</td>\n",
       "      <td>0.175227</td>\n",
       "      <td>0.557638</td>\n",
       "      <td>-0.541891</td>\n",
       "      <td>...</td>\n",
       "      <td>-0.670578</td>\n",
       "      <td>0.223860</td>\n",
       "      <td>1.320173</td>\n",
       "      <td>-0.176618</td>\n",
       "      <td>0.439324</td>\n",
       "      <td>0.505475</td>\n",
       "      <td>0.148806</td>\n",
       "      <td>-0.231144</td>\n",
       "      <td>0</td>\n",
       "      <td>1.716060</td>\n",
       "    </tr>\n",
       "    <tr>\n",
       "      <td>32530</td>\n",
       "      <td>1.179727</td>\n",
       "      <td>-0.100842</td>\n",
       "      <td>0.687627</td>\n",
       "      <td>-0.179965</td>\n",
       "      <td>-0.623829</td>\n",
       "      <td>-0.346247</td>\n",
       "      <td>-0.360820</td>\n",
       "      <td>0.087821</td>\n",
       "      <td>0.072248</td>\n",
       "      <td>-0.097781</td>\n",
       "      <td>...</td>\n",
       "      <td>-0.036674</td>\n",
       "      <td>-0.083762</td>\n",
       "      <td>0.133864</td>\n",
       "      <td>0.282423</td>\n",
       "      <td>-0.003343</td>\n",
       "      <td>0.903395</td>\n",
       "      <td>-0.056057</td>\n",
       "      <td>-0.001259</td>\n",
       "      <td>0</td>\n",
       "      <td>-0.337877</td>\n",
       "    </tr>\n",
       "  </tbody>\n",
       "</table>\n",
       "<p>5 rows × 30 columns</p>\n",
       "</div>"
      ],
      "text/plain": [
       "              V1        V2        V3        V4        V5        V6        V7  \\\n",
       "269376 -1.149626  0.290100  0.800955 -0.874896  0.104407 -0.196375  0.291360   \n",
       "158558 -0.047067  1.185354  0.052263  0.864272  1.587851 -0.072806  1.327893   \n",
       "270915 -0.733319  1.601833 -1.253605 -0.660401  0.502782  0.126090 -0.709196   \n",
       "88963  -4.888568 -3.631597  1.017981  1.114435 -0.807058  1.287679  1.187842   \n",
       "32530   1.179727 -0.100842  0.687627 -0.179965 -0.623829 -0.346247 -0.360820   \n",
       "\n",
       "              V8        V9       V10  ...       V21       V22       V23  \\\n",
       "269376  0.340235  0.125264 -0.347661  ... -0.178369 -0.436627  0.200716   \n",
       "158558 -0.370286  0.622953  0.034035  ... -0.087930  0.451570 -0.423540   \n",
       "270915 -2.040238 -0.534946 -1.348731  ... -1.539987 -0.489216  0.332146   \n",
       "88963   0.175227  0.557638 -0.541891  ... -0.670578  0.223860  1.320173   \n",
       "32530   0.087821  0.072248 -0.097781  ... -0.036674 -0.083762  0.133864   \n",
       "\n",
       "             V24       V25       V26       V27       V28  Class  ScaledAmount  \n",
       "269376 -0.504903 -0.830790  0.146447 -0.023386 -0.083270      0     -0.101470  \n",
       "158558 -0.853346  0.031887 -0.412668  0.243234 -0.003976      0     -0.345593  \n",
       "270915  0.124638 -0.487416  0.106293  0.053451  0.039653      0     -0.317127  \n",
       "88963  -0.176618  0.439324  0.505475  0.148806 -0.231144      0      1.716060  \n",
       "32530   0.282423 -0.003343  0.903395 -0.056057 -0.001259      0     -0.337877  \n",
       "\n",
       "[5 rows x 30 columns]"
      ]
     },
     "execution_count": 4,
     "metadata": {},
     "output_type": "execute_result"
    }
   ],
   "source": [
    "cc_2 = cc.copy()\n",
    "from sklearn.preprocessing import StandardScaler\n",
    "\n",
    "cc_new = StandardScaler().fit_transform(cc_2[['Amount']])\n",
    "cc_list = [item for sublist in cc_new.tolist() for item in sublist]\n",
    "cc_new = pd.Series(cc_list)\n",
    "cc_2 = pd.concat([cc_2, cc_new.rename('ScaledAmount')], axis=1)\n",
    "\n",
    "cc_new = StandardScaler().fit_transform(cc_2[['Time']])\n",
    "cc_list = [item for sublist in cc_new.tolist() for item in sublist]\n",
    "cc_new = pd.Series(cc_list)\n",
    "cc_2 = pd.concat([cc_2, cc_new.rename('ScaledTime')], axis=1)\n",
    "\n",
    "cc_2.drop(['Amount', 'Time', 'ScaledTime'], axis=1, inplace=True)\n",
    "cc_2.sample(5)"
   ]
  },
  {
   "cell_type": "code",
   "execution_count": 50,
   "metadata": {},
   "outputs": [],
   "source": [
    "cc_data_new = cc_2.copy()\n",
    "X = cc_data_new.drop('Class', axis=1)\n",
    "y = cc_data_new['Class']\n",
    "from sklearn.model_selection import train_test_split\n",
    "X_train, X_test, y_train, y_test = train_test_split(X, y, train_size=0.8, random_state=100)\n",
    "\n",
    "from sklearn.metrics import auc\n",
    "from sklearn.metrics import roc_curve"
   ]
  },
  {
   "cell_type": "markdown",
   "metadata": {},
   "source": [
    "# Entropy "
   ]
  },
  {
   "cell_type": "code",
   "execution_count": 72,
   "metadata": {},
   "outputs": [
    {
     "name": "stdout",
     "output_type": "stream",
     "text": [
      "Metrics for the test data \n",
      "\n",
      "Confusion matrix :\n",
      " [[56852    14]\n",
      " [   28    68]]\n",
      "Prediction accuracy :\n",
      " 0.9992626663389628\n",
      "Classification report :\n",
      "               precision    recall  f1-score   support\n",
      "\n",
      "           0       1.00      1.00      1.00     56866\n",
      "           1       0.83      0.71      0.76        96\n",
      "\n",
      "    accuracy                           1.00     56962\n",
      "   macro avg       0.91      0.85      0.88     56962\n",
      "weighted avg       1.00      1.00      1.00     56962\n",
      "\n",
      "Metrics for the train data \n",
      "\n",
      "Confusion matrix :\n",
      " [[227436     13]\n",
      " [    72    324]]\n",
      "Prediction accuracy :\n",
      " 0.9996269393666747\n",
      "Classification property :\n",
      "               precision    recall  f1-score   support\n",
      "\n",
      "           0       1.00      1.00      1.00    227449\n",
      "           1       0.96      0.82      0.88       396\n",
      "\n",
      "    accuracy                           1.00    227845\n",
      "   macro avg       0.98      0.91      0.94    227845\n",
      "weighted avg       1.00      1.00      1.00    227845\n",
      "\n"
     ]
    }
   ],
   "source": [
    "from sklearn.tree import DecisionTreeClassifier\n",
    "dtree = DecisionTreeClassifier(criterion='entropy', max_depth = 5)\n",
    "dtree.fit(X_train,y_train)\n",
    "\n",
    "#metrics for the test data \n",
    "print('Metrics for the test data \\n')\n",
    "predictions = dtree.predict(X_test)\n",
    "from sklearn.metrics import classification_report,confusion_matrix,accuracy_score\n",
    "conf_matrix=confusion_matrix(y_test,predictions)\n",
    "print('Confusion matrix :\\n',conf_matrix)\n",
    "accuracy=accuracy_score(y_test,predictions)\n",
    "print('Prediction accuracy :\\n',accuracy)\n",
    "print('Classification report :\\n', classification_report(y_test,predictions))\n",
    "\n",
    "#metrics for the train data \n",
    "print('Metrics for the train data \\n')\n",
    "predictions = dtree.predict(X_train)\n",
    "from sklearn.metrics import classification_report,confusion_matrix,accuracy_score\n",
    "conf_matrix=confusion_matrix(y_train,predictions)\n",
    "print('Confusion matrix :\\n',conf_matrix)\n",
    "accuracy=accuracy_score(y_train,predictions)\n",
    "print('Prediction accuracy :\\n',accuracy)\n",
    "print('Classification property :\\n',classification_report(y_train,predictions))"
   ]
  },
  {
   "cell_type": "code",
   "execution_count": 26,
   "metadata": {},
   "outputs": [
    {
     "name": "stdout",
     "output_type": "stream",
     "text": [
      "Accuracies :\n",
      " [0.99934167 0.99951723 0.9992539  0.999605   0.99951723 0.99938556\n",
      " 0.9995611  0.9995611  0.99947331 0.9994294 ]\n",
      "Model_accuracy :\n",
      " 0.9994645488448711\n",
      "Model_standard_accuracy :\n",
      " 0.00010533040211414862\n"
     ]
    }
   ],
   "source": [
    "from sklearn.model_selection import cross_val_score\n",
    "accuracies = cross_val_score(estimator = dtree, X = X_train, y = y_train, cv = 10)\n",
    "model_accuracy = accuracies.mean()\n",
    "model_standard_deviation = accuracies.std()\n",
    "\n",
    "print('Accuracies :\\n', accuracies)\n",
    "print('Model_accuracy :\\n', model_accuracy)\n",
    "print('Model_standard_accuracy :\\n', model_standard_deviation)"
   ]
  },
  {
   "cell_type": "code",
   "execution_count": 73,
   "metadata": {},
   "outputs": [
    {
     "data": {
      "image/png": "[encoded data removed]",
      "text/plain": [
       "<Figure size 432x288 with 1 Axes>"
      ]
     },
     "metadata": {
      "needs_background": "light"
     },
     "output_type": "display_data"
    }
   ],
   "source": [
    "fpr, tpr, threshold = roc_curve(y_test, dtree.predict_proba(X_test)[:,1])\n",
    "roc_auc = auc(fpr, tpr)\n",
    "import matplotlib.pyplot as plt \n",
    "plt.title('Receiver Operating Characteristic')\n",
    "plt.plot(fpr, tpr, 'b',label = 'AUC = %0.2f' % roc_auc)\n",
    "plt.legend(loc = 'lower right')\n",
    "plt.plot([0, 1], [0, 1], 'r--')\n",
    "plt.xlim([0, 1])\n",
    "plt.ylim([0, 1])\n",
    "plt.ylabel('True Positive Rate')\n",
    "plt.xlabel('False Positive Rate')\n",
    "plt.show()"
   ]
  },
  {
   "cell_type": "markdown",
   "metadata": {},
   "source": [
    "# Gini"
   ]
  },
  {
   "cell_type": "code",
   "execution_count": 69,
   "metadata": {},
   "outputs": [
    {
     "name": "stdout",
     "output_type": "stream",
     "text": [
      "Metrics for the test data \n",
      "\n",
      "Confusion matrix :\n",
      " [[56848    18]\n",
      " [   37    59]]\n",
      "Prediction accuracy :\n",
      " 0.9990344440153085\n",
      "Classification report :\n",
      "               precision    recall  f1-score   support\n",
      "\n",
      "           0       1.00      1.00      1.00     56866\n",
      "           1       0.77      0.61      0.68        96\n",
      "\n",
      "    accuracy                           1.00     56962\n",
      "   macro avg       0.88      0.81      0.84     56962\n",
      "weighted avg       1.00      1.00      1.00     56962\n",
      "\n",
      "Metrics for the train data \n",
      "\n",
      "Confusion matrix :\n",
      " [[227419     30]\n",
      " [   104    292]]\n",
      "Prediction accuracy :\n",
      " 0.9994118808839343\n",
      "Classification property :\n",
      "               precision    recall  f1-score   support\n",
      "\n",
      "           0       1.00      1.00      1.00    227449\n",
      "           1       0.91      0.74      0.81       396\n",
      "\n",
      "    accuracy                           1.00    227845\n",
      "   macro avg       0.95      0.87      0.91    227845\n",
      "weighted avg       1.00      1.00      1.00    227845\n",
      "\n"
     ]
    }
   ],
   "source": [
    "from sklearn.tree import DecisionTreeClassifier\n",
    "dtree = DecisionTreeClassifier(criterion='gini', max_depth = 3)\n",
    "dtree.fit(X_train,y_train)\n",
    "\n",
    "#metrics for the test data \n",
    "print('Metrics for the test data \\n')\n",
    "predictions = dtree.predict(X_test)\n",
    "from sklearn.metrics import classification_report,confusion_matrix,accuracy_score\n",
    "conf_matrix=confusion_matrix(y_test,predictions)\n",
    "print('Confusion matrix :\\n',conf_matrix)\n",
    "accuracy=accuracy_score(y_test,predictions)\n",
    "print('Prediction accuracy :\\n',accuracy)\n",
    "print('Classification report :\\n', classification_report(y_test,predictions))\n",
    "\n",
    "#metrics for the train data \n",
    "print('Metrics for the train data \\n')\n",
    "predictions = dtree.predict(X_train)\n",
    "from sklearn.metrics import classification_report,confusion_matrix,accuracy_score\n",
    "conf_matrix=confusion_matrix(y_train,predictions)\n",
    "print('Confusion matrix :\\n',conf_matrix)\n",
    "accuracy=accuracy_score(y_train,predictions)\n",
    "print('Prediction accuracy :\\n',accuracy)\n",
    "print('Classification property :\\n',classification_report(y_train,predictions))"
   ]
  },
  {
   "cell_type": "code",
   "execution_count": 70,
   "metadata": {},
   "outputs": [
    {
     "name": "stdout",
     "output_type": "stream",
     "text": [
      "Accuracies :\n",
      " [0.99929778 0.99934167 0.9992539  0.9992539  0.99947334 0.99912223\n",
      " 0.99929775 0.99951721 0.9995611  0.99938551]\n",
      "Model_accuracy :\n",
      " 0.9993504373362601\n",
      "Model_standard_accuracy :\n",
      " 0.00012840062659716383\n"
     ]
    }
   ],
   "source": [
    "from sklearn.model_selection import cross_val_score\n",
    "accuracies = cross_val_score(estimator = dtree, X = X_train, y = y_train, cv = 10)\n",
    "model_accuracy = accuracies.mean()\n",
    "model_standard_deviation = accuracies.std()\n",
    "\n",
    "print('Accuracies :\\n', accuracies)\n",
    "print('Model_accuracy :\\n', model_accuracy)\n",
    "print('Model_standard_accuracy :\\n', model_standard_deviation)"
   ]
  },
  {
   "cell_type": "code",
   "execution_count": 71,
   "metadata": {},
   "outputs": [
    {
     "data": {
      "image/png": "[encoded data removed]",
      "text/plain": [
       "<Figure size 432x288 with 1 Axes>"
      ]
     },
     "metadata": {
      "needs_background": "light"
     },
     "output_type": "display_data"
    }
   ],
   "source": [
    "fpr, tpr, threshold = roc_curve(y_test, dtree.predict_proba(X_test)[:,1])\n",
    "roc_auc = auc(fpr, tpr)\n",
    "import matplotlib.pyplot as plt \n",
    "plt.title('Receiver Operating Characteristic')\n",
    "plt.plot(fpr, tpr, 'b',label = 'AUC = %0.2f' % roc_auc)\n",
    "plt.legend(loc = 'lower right')\n",
    "plt.plot([0, 1], [0, 1], 'r--')\n",
    "plt.xlim([0, 1])\n",
    "plt.ylim([0, 1])\n",
    "plt.ylabel('True Positive Rate')\n",
    "plt.xlabel('False Positive Rate')\n",
    "plt.show()"
   ]
  },
  {
   "cell_type": "markdown",
   "metadata": {},
   "source": [
    "To write comment about ginni and entropy here"
   ]
  },
  {
   "cell_type": "markdown",
   "metadata": {},
   "source": [
    "# Random Forest "
   ]
  },
  {
   "cell_type": "code",
   "execution_count": 9,
   "metadata": {},
   "outputs": [
    {
     "data": {
      "text/plain": [
       "RandomForestClassifier(bootstrap=True, class_weight=None, criterion='gini',\n",
       "                       max_depth=None, max_features='auto', max_leaf_nodes=None,\n",
       "                       min_impurity_decrease=0.0, min_impurity_split=None,\n",
       "                       min_samples_leaf=1, min_samples_split=2,\n",
       "                       min_weight_fraction_leaf=0.0, n_estimators=20,\n",
       "                       n_jobs=None, oob_score=False, random_state=None,\n",
       "                       verbose=0, warm_start=False)"
      ]
     },
     "execution_count": 9,
     "metadata": {},
     "output_type": "execute_result"
    }
   ],
   "source": [
    "from sklearn.ensemble import RandomForestClassifier\n",
    "rfc = RandomForestClassifier(n_estimators = 20)\n",
    "rfc.fit(X_train, y_train)"
   ]
  },
  {
   "cell_type": "code",
   "execution_count": 10,
   "metadata": {},
   "outputs": [
    {
     "name": "stdout",
     "output_type": "stream",
     "text": [
      "[[56860     6]\n",
      " [   29    67]]\n",
      "              precision    recall  f1-score   support\n",
      "\n",
      "           0       1.00      1.00      1.00     56866\n",
      "           1       0.92      0.70      0.79        96\n",
      "\n",
      "    accuracy                           1.00     56962\n",
      "   macro avg       0.96      0.85      0.90     56962\n",
      "weighted avg       1.00      1.00      1.00     56962\n",
      "\n",
      "0.999385555282469\n"
     ]
    }
   ],
   "source": [
    "rfc_pred = rfc.predict(X_test)\n",
    "print(confusion_matrix(y_test, rfc_pred))\n",
    "print(classification_report(y_test, rfc_pred))\n",
    "print(accuracy_score(y_test, rfc_pred))"
   ]
  },
  {
   "cell_type": "code",
   "execution_count": 11,
   "metadata": {},
   "outputs": [
    {
     "name": "stdout",
     "output_type": "stream",
     "text": [
      "[[227448      1]\n",
      " [     9    387]]\n",
      "              precision    recall  f1-score   support\n",
      "\n",
      "           0       1.00      1.00      1.00    227449\n",
      "           1       1.00      0.98      0.99       396\n",
      "\n",
      "    accuracy                           1.00    227845\n",
      "   macro avg       1.00      0.99      0.99    227845\n",
      "weighted avg       1.00      1.00      1.00    227845\n",
      "\n",
      "0.9999561105137265\n"
     ]
    }
   ],
   "source": [
    "rfc_pred = rfc.predict(X_train)\n",
    "print(confusion_matrix(y_train, rfc_pred))\n",
    "print(classification_report(y_train, rfc_pred))\n",
    "print(accuracy_score(y_train, rfc_pred))"
   ]
  },
  {
   "cell_type": "code",
   "execution_count": 22,
   "metadata": {},
   "outputs": [
    {
     "name": "stdout",
     "output_type": "stream",
     "text": [
      "Accuracies :\n",
      " [0.99964889 0.99964889 0.99951723 0.99951723 0.99951723 0.99942945\n",
      " 0.99951721 0.99964888 0.99960499 0.99956108]\n",
      "Model_accuracy :\n",
      " 0.9995611055221414\n",
      "Model_standard_accuracy :\n",
      " 7.07664458042615e-05\n"
     ]
    }
   ],
   "source": [
    "from sklearn.model_selection import cross_val_score\n",
    "accuracies = cross_val_score(estimator = rfc, X = X_train, y = y_train, cv = 10)\n",
    "model_accuracy = accuracies.mean()\n",
    "model_standard_deviation = accuracies.std()\n",
    "\n",
    "print('Accuracies :\\n', accuracies)\n",
    "print('Model_accuracy :\\n', model_accuracy)\n",
    "print('Model_standard_accuracy :\\n', model_standard_deviation)"
   ]
  },
  {
   "cell_type": "code",
   "execution_count": 65,
   "metadata": {},
   "outputs": [
    {
     "data": {
      "image/png": "[encoded data removed]",
      "text/plain": [
       "<Figure size 432x288 with 1 Axes>"
      ]
     },
     "metadata": {
      "needs_background": "light"
     },
     "output_type": "display_data"
    }
   ],
   "source": [
    "fpr, tpr, threshold = roc_curve(y_test, log_reg.predict_proba(X_test)[:,1])\n",
    "roc_auc = auc(fpr, tpr)\n",
    "import matplotlib.pyplot as plt \n",
    "plt.title('Receiver Operating Characteristic')\n",
    "plt.plot(fpr, tpr, 'b',label = 'AUC = %0.2f' % roc_auc)\n",
    "plt.legend(loc = 'lower right')\n",
    "plt.plot([0, 1], [0, 1], 'r--')\n",
    "plt.xlim([0, 1])\n",
    "plt.ylim([0, 1])\n",
    "plt.ylabel('True Positive Rate')\n",
    "plt.xlabel('False Positive Rate')\n",
    "plt.show()"
   ]
  },
  {
   "cell_type": "markdown",
   "metadata": {},
   "source": [
    "# XGBoost"
   ]
  },
  {
   "cell_type": "code",
   "execution_count": 12,
   "metadata": {},
   "outputs": [
    {
     "data": {
      "text/plain": [
       "XGBClassifier(base_score=0.5, booster='gbtree', colsample_bylevel=1,\n",
       "              colsample_bynode=1, colsample_bytree=1, gamma=0,\n",
       "              learning_rate=0.1, max_delta_step=0, max_depth=3,\n",
       "              min_child_weight=1, missing=None, n_estimators=100, n_jobs=1,\n",
       "              nthread=None, objective='binary:logistic', random_state=0,\n",
       "              reg_alpha=0, reg_lambda=1, scale_pos_weight=1, seed=None,\n",
       "              silent=None, subsample=1, verbosity=1)"
      ]
     },
     "execution_count": 12,
     "metadata": {},
     "output_type": "execute_result"
    }
   ],
   "source": [
    "from xgboost import XGBClassifier \n",
    "xgbmodel = XGBClassifier()\n",
    "xgbmodel.fit(X_train, y_train)"
   ]
  },
  {
   "cell_type": "code",
   "execution_count": 13,
   "metadata": {},
   "outputs": [
    {
     "name": "stdout",
     "output_type": "stream",
     "text": [
      "[[56852    14]\n",
      " [   23    73]]\n",
      "              precision    recall  f1-score   support\n",
      "\n",
      "           0       1.00      1.00      1.00     56866\n",
      "           1       0.84      0.76      0.80        96\n",
      "\n",
      "    accuracy                           1.00     56962\n",
      "   macro avg       0.92      0.88      0.90     56962\n",
      "weighted avg       1.00      1.00      1.00     56962\n",
      "\n",
      "0.9993504441557529\n"
     ]
    }
   ],
   "source": [
    "y_pred = xgbmodel.predict(X_test)\n",
    "print(confusion_matrix(y_test, y_pred))\n",
    "print(classification_report(y_test, y_pred))\n",
    "print(accuracy_score(y_test, y_pred))"
   ]
  },
  {
   "cell_type": "code",
   "execution_count": 14,
   "metadata": {},
   "outputs": [
    {
     "name": "stdout",
     "output_type": "stream",
     "text": [
      "[[227436     13]\n",
      " [    59    337]]\n",
      "              precision    recall  f1-score   support\n",
      "\n",
      "           0       1.00      1.00      1.00    227449\n",
      "           1       0.96      0.85      0.90       396\n",
      "\n",
      "    accuracy                           1.00    227845\n",
      "   macro avg       0.98      0.93      0.95    227845\n",
      "weighted avg       1.00      1.00      1.00    227845\n",
      "\n",
      "0.9996839956988304\n"
     ]
    }
   ],
   "source": [
    "y_pred = xgbmodel.predict(X_train)\n",
    "print(confusion_matrix(y_train, y_pred))\n",
    "print(classification_report(y_train, y_pred))\n",
    "print(accuracy_score(y_train, y_pred))"
   ]
  },
  {
   "cell_type": "code",
   "execution_count": 21,
   "metadata": {},
   "outputs": [
    {
     "name": "stdout",
     "output_type": "stream",
     "text": [
      "Accuracies :\n",
      " [0.99942945 0.99964889 0.99934167 0.99956111 0.99956111 0.99942945\n",
      " 0.99951721 0.9995611  0.99951721 0.99947329]\n",
      "Model_accuracy :\n",
      " 0.9995040489009813\n",
      "Model_standard_accuracy :\n",
      " 8.338791153249806e-05\n"
     ]
    }
   ],
   "source": [
    "from sklearn.model_selection import cross_val_score\n",
    "accuracies = cross_val_score(estimator = xgbmodel, X = X_train, y = y_train, cv = 10)\n",
    "model_accuracy = accuracies.mean()\n",
    "model_standard_deviation = accuracies.std()\n",
    "\n",
    "print('Accuracies :\\n', accuracies)\n",
    "print('Model_accuracy :\\n', model_accuracy)\n",
    "print('Model_standard_accuracy :\\n', model_standard_deviation)"
   ]
  },
  {
   "cell_type": "code",
   "execution_count": 66,
   "metadata": {},
   "outputs": [
    {
     "data": {
      "image/png": "[encoded data removed]",
      "text/plain": [
       "<Figure size 432x288 with 1 Axes>"
      ]
     },
     "metadata": {
      "needs_background": "light"
     },
     "output_type": "display_data"
    }
   ],
   "source": [
    "fpr, tpr, threshold = roc_curve(y_test, log_reg.predict_proba(X_test)[:,1])\n",
    "roc_auc = auc(fpr, tpr)\n",
    "import matplotlib.pyplot as plt \n",
    "plt.title('Receiver Operating Characteristic')\n",
    "plt.plot(fpr, tpr, 'b',label = 'AUC = %0.2f' % roc_auc)\n",
    "plt.legend(loc = 'lower right')\n",
    "plt.plot([0, 1], [0, 1], 'r--')\n",
    "plt.xlim([0, 1])\n",
    "plt.ylim([0, 1])\n",
    "plt.ylabel('True Positive Rate')\n",
    "plt.xlabel('False Positive Rate')\n",
    "plt.show()"
   ]
  },
  {
   "cell_type": "markdown",
   "metadata": {},
   "source": [
    "# Logistic Regression"
   ]
  },
  {
   "cell_type": "code",
   "execution_count": 15,
   "metadata": {},
   "outputs": [
    {
     "name": "stderr",
     "output_type": "stream",
     "text": [
      "/usr/local/lib/python3.7/site-packages/sklearn/linear_model/logistic.py:432: FutureWarning: Default solver will be changed to 'lbfgs' in 0.22. Specify a solver to silence this warning.\n",
      "  FutureWarning)\n"
     ]
    },
    {
     "data": {
      "text/plain": [
       "LogisticRegression(C=1.0, class_weight=None, dual=False, fit_intercept=True,\n",
       "                   intercept_scaling=1, l1_ratio=None, max_iter=100,\n",
       "                   multi_class='warn', n_jobs=None, penalty='l2',\n",
       "                   random_state=None, solver='warn', tol=0.0001, verbose=0,\n",
       "                   warm_start=False)"
      ]
     },
     "execution_count": 15,
     "metadata": {},
     "output_type": "execute_result"
    }
   ],
   "source": [
    "from sklearn.linear_model import LogisticRegression\n",
    "log_reg = LogisticRegression()\n",
    "log_reg.fit(X_train, y_train)"
   ]
  },
  {
   "cell_type": "code",
   "execution_count": 16,
   "metadata": {},
   "outputs": [
    {
     "data": {
      "text/plain": [
       "array([[ 0.14856494, -0.08384178,  0.00203156,  0.63191114,  0.05838297,\n",
       "        -0.09860339, -0.12855298, -0.17779686, -0.41213227, -0.75226802,\n",
       "        -0.06648447,  0.00123967, -0.31906216, -0.60484817, -0.09815505,\n",
       "        -0.15191871, -0.07257693, -0.02749208,  0.11695737, -0.42860065,\n",
       "         0.34012478,  0.41643243, -0.05285706,  0.03775967, -0.08546627,\n",
       "        -0.08825064, -0.75056135, -0.2745752 ,  0.15841556]])"
      ]
     },
     "execution_count": 16,
     "metadata": {},
     "output_type": "execute_result"
    }
   ],
   "source": [
    "log_reg.coef_"
   ]
  },
  {
   "cell_type": "code",
   "execution_count": 17,
   "metadata": {},
   "outputs": [
    {
     "data": {
      "text/plain": [
       "array([-8.46551773])"
      ]
     },
     "execution_count": 17,
     "metadata": {},
     "output_type": "execute_result"
    }
   ],
   "source": [
    "log_reg.intercept_"
   ]
  },
  {
   "cell_type": "code",
   "execution_count": 18,
   "metadata": {},
   "outputs": [
    {
     "name": "stdout",
     "output_type": "stream",
     "text": [
      "[[56849    17]\n",
      " [   38    58]]\n",
      "              precision    recall  f1-score   support\n",
      "\n",
      "           0       1.00      1.00      1.00     56866\n",
      "           1       0.77      0.60      0.68        96\n",
      "\n",
      "    accuracy                           1.00     56962\n",
      "   macro avg       0.89      0.80      0.84     56962\n",
      "weighted avg       1.00      1.00      1.00     56962\n",
      "\n",
      "0.9990344440153085\n"
     ]
    }
   ],
   "source": [
    "y_pred = log_reg.predict(X_test)\n",
    "print(confusion_matrix(y_test, y_pred))\n",
    "print(classification_report(y_test, y_pred))\n",
    "print(accuracy_score(y_test, y_pred))"
   ]
  },
  {
   "cell_type": "code",
   "execution_count": 19,
   "metadata": {},
   "outputs": [
    {
     "name": "stdout",
     "output_type": "stream",
     "text": [
      "[[227422     27]\n",
      " [   127    269]]\n",
      "              precision    recall  f1-score   support\n",
      "\n",
      "           0       1.00      1.00      1.00    227449\n",
      "           1       0.91      0.68      0.78       396\n",
      "\n",
      "    accuracy                           1.00    227845\n",
      "   macro avg       0.95      0.84      0.89    227845\n",
      "weighted avg       1.00      1.00      1.00    227845\n",
      "\n",
      "0.9993241019113871\n"
     ]
    }
   ],
   "source": [
    "y_pred = log_reg.predict(X_train)\n",
    "print(confusion_matrix(y_train, y_pred))\n",
    "print(classification_report(y_train, y_pred))\n",
    "print(accuracy_score(y_train, y_pred))"
   ]
  },
  {
   "cell_type": "code",
   "execution_count": 20,
   "metadata": {},
   "outputs": [
    {
     "name": "stderr",
     "output_type": "stream",
     "text": [
      "/usr/local/lib/python3.7/site-packages/sklearn/linear_model/logistic.py:432: FutureWarning: Default solver will be changed to 'lbfgs' in 0.22. Specify a solver to silence this warning.\n",
      "  FutureWarning)\n",
      "/usr/local/lib/python3.7/site-packages/sklearn/linear_model/logistic.py:432: FutureWarning: Default solver will be changed to 'lbfgs' in 0.22. Specify a solver to silence this warning.\n",
      "  FutureWarning)\n",
      "/usr/local/lib/python3.7/site-packages/sklearn/linear_model/logistic.py:432: FutureWarning: Default solver will be changed to 'lbfgs' in 0.22. Specify a solver to silence this warning.\n",
      "  FutureWarning)\n",
      "/usr/local/lib/python3.7/site-packages/sklearn/linear_model/logistic.py:432: FutureWarning: Default solver will be changed to 'lbfgs' in 0.22. Specify a solver to silence this warning.\n",
      "  FutureWarning)\n",
      "/usr/local/lib/python3.7/site-packages/sklearn/linear_model/logistic.py:432: FutureWarning: Default solver will be changed to 'lbfgs' in 0.22. Specify a solver to silence this warning.\n",
      "  FutureWarning)\n",
      "/usr/local/lib/python3.7/site-packages/sklearn/linear_model/logistic.py:432: FutureWarning: Default solver will be changed to 'lbfgs' in 0.22. Specify a solver to silence this warning.\n",
      "  FutureWarning)\n",
      "/usr/local/lib/python3.7/site-packages/sklearn/linear_model/logistic.py:432: FutureWarning: Default solver will be changed to 'lbfgs' in 0.22. Specify a solver to silence this warning.\n",
      "  FutureWarning)\n",
      "/usr/local/lib/python3.7/site-packages/sklearn/linear_model/logistic.py:432: FutureWarning: Default solver will be changed to 'lbfgs' in 0.22. Specify a solver to silence this warning.\n",
      "  FutureWarning)\n",
      "/usr/local/lib/python3.7/site-packages/sklearn/linear_model/logistic.py:432: FutureWarning: Default solver will be changed to 'lbfgs' in 0.22. Specify a solver to silence this warning.\n",
      "  FutureWarning)\n",
      "/usr/local/lib/python3.7/site-packages/sklearn/linear_model/logistic.py:432: FutureWarning: Default solver will be changed to 'lbfgs' in 0.22. Specify a solver to silence this warning.\n",
      "  FutureWarning)\n"
     ]
    },
    {
     "name": "stdout",
     "output_type": "stream",
     "text": [
      "Accuracies :\n",
      " [0.99938556 0.99947334 0.99912223 0.99929778 0.99934167 0.99916612\n",
      " 0.99920997 0.99938553 0.99929775 0.99925383]\n",
      "Model_accuracy :\n",
      " 0.9992933789814249\n",
      "Model_standard_accuracy :\n",
      " 0.00010283687822386742\n"
     ]
    }
   ],
   "source": [
    "from sklearn.model_selection import cross_val_score\n",
    "accuracies = cross_val_score(estimator = log_reg, X = X_train, y = y_train, cv = 10)\n",
    "model_accuracy = accuracies.mean()\n",
    "model_standard_deviation = accuracies.std()\n",
    "\n",
    "print('Accuracies :\\n', accuracies)\n",
    "print('Model_accuracy :\\n', model_accuracy)\n",
    "print('Model_standard_accuracy :\\n', model_standard_deviation)"
   ]
  },
  {
   "cell_type": "code",
   "execution_count": 67,
   "metadata": {},
   "outputs": [
    {
     "data": {
      "image/png": "[encoded data removed]",
      "text/plain": [
       "<Figure size 432x288 with 1 Axes>"
      ]
     },
     "metadata": {
      "needs_background": "light"
     },
     "output_type": "display_data"
    }
   ],
   "source": [
    "fpr, tpr, threshold = roc_curve(y_test, log_reg.predict_proba(X_test)[:,1])\n",
    "roc_auc = auc(fpr, tpr)\n",
    "import matplotlib.pyplot as plt \n",
    "plt.title('Receiver Operating Characteristic')\n",
    "plt.plot(fpr, tpr, 'b',label = 'AUC = %0.2f' % roc_auc)\n",
    "plt.legend(loc = 'lower right')\n",
    "plt.plot([0, 1], [0, 1], 'r--')\n",
    "plt.xlim([0, 1])\n",
    "plt.ylim([0, 1])\n",
    "plt.ylabel('True Positive Rate')\n",
    "plt.xlabel('False Positive Rate')\n",
    "plt.show()"
   ]
  },
  {
   "cell_type": "markdown",
   "metadata": {},
   "source": [
    "# KNN"
   ]
  },
  {
   "cell_type": "code",
   "execution_count": 27,
   "metadata": {},
   "outputs": [
    {
     "data": {
      "text/plain": [
       "KNeighborsClassifier(algorithm='auto', leaf_size=30, metric='minkowski',\n",
       "                     metric_params=None, n_jobs=None, n_neighbors=10, p=2,\n",
       "                     weights='uniform')"
      ]
     },
     "execution_count": 27,
     "metadata": {},
     "output_type": "execute_result"
    }
   ],
   "source": [
    "from sklearn.neighbors import KNeighborsClassifier\n",
    "knn = KNeighborsClassifier(n_neighbors = 10)\n",
    "knn.fit(X_train, y_train)"
   ]
  },
  {
   "cell_type": "code",
   "execution_count": 28,
   "metadata": {},
   "outputs": [
    {
     "name": "stdout",
     "output_type": "stream",
     "text": [
      "[[56848    18]\n",
      " [   30    66]]\n",
      "              precision    recall  f1-score   support\n",
      "\n",
      "           0       1.00      1.00      1.00     56866\n",
      "           1       0.79      0.69      0.73        96\n",
      "\n",
      "    accuracy                           1.00     56962\n",
      "   macro avg       0.89      0.84      0.87     56962\n",
      "weighted avg       1.00      1.00      1.00     56962\n",
      "\n",
      "0.9991573329588147\n"
     ]
    }
   ],
   "source": [
    "y_pred = knn.predict(X_test)\n",
    "print(confusion_matrix(y_test, y_pred))\n",
    "print(classification_report(y_test, y_pred))\n",
    "print(accuracy_score(y_test, y_pred))"
   ]
  },
  {
   "cell_type": "code",
   "execution_count": 30,
   "metadata": {},
   "outputs": [
    {
     "name": "stdout",
     "output_type": "stream",
     "text": [
      "[[227427     22]\n",
      " [    91    305]]\n",
      "              precision    recall  f1-score   support\n",
      "\n",
      "           0       1.00      1.00      1.00    227449\n",
      "           1       0.93      0.77      0.84       396\n",
      "\n",
      "    accuracy                           1.00    227845\n",
      "   macro avg       0.97      0.89      0.92    227845\n",
      "weighted avg       1.00      1.00      1.00    227845\n",
      "\n",
      "0.9995040488051088\n"
     ]
    }
   ],
   "source": [
    "y_pred = knn.predict(X_train)\n",
    "print(confusion_matrix(y_train, y_pred))\n",
    "print(classification_report(y_train, y_pred))\n",
    "print(accuracy_score(y_train, y_pred))"
   ]
  },
  {
   "cell_type": "code",
   "execution_count": 60,
   "metadata": {},
   "outputs": [
    {
     "name": "stdout",
     "output_type": "stream",
     "text": [
      "Accuracies :\n",
      " [0.99942945 0.99956111 0.99929778 0.99956111 0.99942945 0.99934167\n",
      " 0.99960499 0.99951721 0.99947331 0.99938551]\n",
      "Model_accuracy :\n",
      " 0.9994601596072815\n",
      "Model_standard_accuracy :\n",
      " 9.625504752891523e-05\n"
     ]
    }
   ],
   "source": [
    "from sklearn.model_selection import cross_val_score\n",
    "accuracies = cross_val_score(estimator = knn, X = X_train, y = y_train, cv = 10)\n",
    "model_accuracy = accuracies.mean()\n",
    "model_standard_deviation = accuracies.std()\n",
    "\n",
    "print('Accuracies :\\n', accuracies)\n",
    "print('Model_accuracy :\\n', model_accuracy)\n",
    "print('Model_standard_accuracy :\\n', model_standard_deviation)"
   ]
  },
  {
   "cell_type": "code",
   "execution_count": 68,
   "metadata": {},
   "outputs": [
    {
     "data": {
      "image/png": "[encoded data removed]",
      "text/plain": [
       "<Figure size 432x288 with 1 Axes>"
      ]
     },
     "metadata": {
      "needs_background": "light"
     },
     "output_type": "display_data"
    }
   ],
   "source": [
    "fpr, tpr, threshold = roc_curve(y_test, knn.predict_proba(X_test)[:,1])\n",
    "roc_auc = auc(fpr, tpr)\n",
    "import matplotlib.pyplot as plt \n",
    "plt.title('Receiver Operating Characteristic')\n",
    "plt.plot(fpr, tpr, 'b',label = 'AUC = %0.2f' % roc_auc)\n",
    "plt.legend(loc = 'lower right')\n",
    "plt.plot([0, 1], [0, 1], 'r--')\n",
    "plt.xlim([0, 1])\n",
    "plt.ylim([0, 1])\n",
    "plt.ylabel('True Positive Rate')\n",
    "plt.xlabel('False Positive Rate')\n",
    "plt.show()"
   ]
  },
  {
   "cell_type": "markdown",
   "metadata": {},
   "source": [
    "# Naive Baysian "
   ]
  },
  {
   "cell_type": "code",
   "execution_count": 33,
   "metadata": {},
   "outputs": [],
   "source": [
    "from sklearn.naive_bayes import GaussianNB\n",
    "gnb = GaussianNB()\n",
    "nb = gnb.fit(X_train, y_train)"
   ]
  },
  {
   "cell_type": "code",
   "execution_count": 46,
   "metadata": {},
   "outputs": [
    {
     "name": "stdout",
     "output_type": "stream",
     "text": [
      "[[55581  1285]\n",
      " [   19    77]]\n",
      "              precision    recall  f1-score   support\n",
      "\n",
      "           0       1.00      0.98      0.99     56866\n",
      "           1       0.06      0.80      0.11        96\n",
      "\n",
      "    accuracy                           0.98     56962\n",
      "   macro avg       0.53      0.89      0.55     56962\n",
      "weighted avg       1.00      0.98      0.99     56962\n",
      "\n",
      "0.9771075453811313\n"
     ]
    }
   ],
   "source": [
    "y_pred = nb.predict(X_test)\n",
    "print(confusion_matrix(y_test, y_pred))\n",
    "print(classification_report(y_test, y_pred))\n",
    "print(accuracy_score(y_test, y_pred))"
   ]
  },
  {
   "cell_type": "code",
   "execution_count": 35,
   "metadata": {},
   "outputs": [
    {
     "name": "stdout",
     "output_type": "stream",
     "text": [
      "[[222610   4839]\n",
      " [    65    331]]\n",
      "              precision    recall  f1-score   support\n",
      "\n",
      "           0       1.00      0.98      0.99    227449\n",
      "           1       0.06      0.84      0.12       396\n",
      "\n",
      "    accuracy                           0.98    227845\n",
      "   macro avg       0.53      0.91      0.55    227845\n",
      "weighted avg       1.00      0.98      0.99    227845\n",
      "\n",
      "0.9784765959314446\n"
     ]
    }
   ],
   "source": [
    "y_pred = nb.predict(X_train)\n",
    "print(confusion_matrix(y_train, y_pred))\n",
    "print(classification_report(y_train, y_pred))\n",
    "print(accuracy_score(y_train, y_pred))"
   ]
  },
  {
   "cell_type": "code",
   "execution_count": 36,
   "metadata": {},
   "outputs": [
    {
     "name": "stdout",
     "output_type": "stream",
     "text": [
      "Accuracies :\n",
      " [0.97836296 0.97809963 0.97788018 0.97853851 0.97823129 0.97739741\n",
      " 0.98007374 0.97963483 0.97928371 0.97779046]\n",
      "Model_accuracy :\n",
      " 0.9785292717717397\n",
      "Model_standard_accuracy :\n",
      " 0.0008201346202763634\n"
     ]
    }
   ],
   "source": [
    "from sklearn.model_selection import cross_val_score\n",
    "accuracies = cross_val_score(estimator = nb, X = X_train, y = y_train, cv = 10)\n",
    "model_accuracy = accuracies.mean()\n",
    "model_standard_deviation = accuracies.std()\n",
    "\n",
    "print('Accuracies :\\n', accuracies)\n",
    "print('Model_accuracy :\\n', model_accuracy)\n",
    "print('Model_standard_accuracy :\\n', model_standard_deviation)"
   ]
  },
  {
   "cell_type": "code",
   "execution_count": 58,
   "metadata": {},
   "outputs": [
    {
     "data": {
      "image/png": "[encoded data removed]",
      "text/plain": [
       "<Figure size 432x288 with 1 Axes>"
      ]
     },
     "metadata": {
      "needs_background": "light"
     },
     "output_type": "display_data"
    }
   ],
   "source": [
    "fpr, tpr, threshold = roc_curve(y_test, nb.predict_proba(X_test)[:,1])\n",
    "roc_auc = auc(fpr, tpr)\n",
    "import matplotlib.pyplot as plt \n",
    "plt.title('Receiver Operating Characteristic')\n",
    "plt.plot(fpr, tpr, 'b',label = 'AUC = %0.2f' % roc_auc)\n",
    "plt.legend(loc = 'lower right')\n",
    "plt.plot([0, 1], [0, 1], 'r--')\n",
    "plt.xlim([0, 1])\n",
    "plt.ylim([0, 1])\n",
    "plt.ylabel('True Positive Rate')\n",
    "plt.show()"
   ]
  },
  {
   "cell_type": "markdown",
   "metadata": {},
   "source": [
    "We used different supervised machine learning algorithm for the classification problem at hand. However due to the existence of the larger number of the non-fraud transactions in the data set the accuracies are almost one for the non-fraud transaction and as result the 'precision' and 'recall' score for the train data almost always lead to indicate overfitting. \n",
    "\n",
    "In order to try to avoid this problem, we randomly sample a fraction of data into a subset. We then count the number of fraud transaction in this subset. After this we randomly sample an equal number non-fraud transaction from the subset. With this we make a new data set consisting of equal number of non-fraud and fraud data set. \n",
    "\n",
    "With this new data we apply the previously used supervised machine learning algorithms. "
   ]
  },
  {
   "cell_type": "code",
   "execution_count": 80,
   "metadata": {},
   "outputs": [
    {
     "name": "stdout",
     "output_type": "stream",
     "text": [
      "Class\n",
      "0    227429\n",
      "1       417\n",
      "dtype: int64\n",
      "417\n"
     ]
    }
   ],
   "source": [
    "cc_3 = cc_2.sample(frac = 0.8)\n",
    "print(cc_3.groupby(['Class']).size())"
   ]
  },
  {
   "cell_type": "code",
   "execution_count": 83,
   "metadata": {},
   "outputs": [
    {
     "name": "stdout",
     "output_type": "stream",
     "text": [
      "417\n",
      "(227429, 30)\n",
      "(417, 30)\n"
     ]
    },
    {
     "data": {
      "text/html": [
       "<div>\n",
       "<style scoped>\n",
       "    .dataframe tbody tr th:only-of-type {\n",
       "        vertical-align: middle;\n",
       "    }\n",
       "\n",
       "    .dataframe tbody tr th {\n",
       "        vertical-align: top;\n",
       "    }\n",
       "\n",
       "    .dataframe thead th {\n",
       "        text-align: right;\n",
       "    }\n",
       "</style>\n",
       "<table border=\"1\" class=\"dataframe\">\n",
       "  <thead>\n",
       "    <tr style=\"text-align: right;\">\n",
       "      <th></th>\n",
       "      <th>V1</th>\n",
       "      <th>V2</th>\n",
       "      <th>V3</th>\n",
       "      <th>V4</th>\n",
       "      <th>V5</th>\n",
       "      <th>V6</th>\n",
       "      <th>V7</th>\n",
       "      <th>V8</th>\n",
       "      <th>V9</th>\n",
       "      <th>V10</th>\n",
       "      <th>...</th>\n",
       "      <th>V21</th>\n",
       "      <th>V22</th>\n",
       "      <th>V23</th>\n",
       "      <th>V24</th>\n",
       "      <th>V25</th>\n",
       "      <th>V26</th>\n",
       "      <th>V27</th>\n",
       "      <th>V28</th>\n",
       "      <th>Class</th>\n",
       "      <th>ScaledAmount</th>\n",
       "    </tr>\n",
       "  </thead>\n",
       "  <tbody>\n",
       "    <tr>\n",
       "      <td>0</td>\n",
       "      <td>-0.887287</td>\n",
       "      <td>1.390002</td>\n",
       "      <td>1.219686</td>\n",
       "      <td>1.661425</td>\n",
       "      <td>1.009228</td>\n",
       "      <td>-0.733908</td>\n",
       "      <td>0.855829</td>\n",
       "      <td>0.000077</td>\n",
       "      <td>-1.275631</td>\n",
       "      <td>-0.433394</td>\n",
       "      <td>...</td>\n",
       "      <td>-0.083734</td>\n",
       "      <td>-0.346930</td>\n",
       "      <td>-0.050619</td>\n",
       "      <td>0.231044</td>\n",
       "      <td>-0.450760</td>\n",
       "      <td>-0.376205</td>\n",
       "      <td>0.034504</td>\n",
       "      <td>0.157775</td>\n",
       "      <td>1</td>\n",
       "      <td>-0.322924</td>\n",
       "    </tr>\n",
       "    <tr>\n",
       "      <td>1</td>\n",
       "      <td>-1.465912</td>\n",
       "      <td>-0.625603</td>\n",
       "      <td>1.444164</td>\n",
       "      <td>1.625029</td>\n",
       "      <td>0.697957</td>\n",
       "      <td>-0.765448</td>\n",
       "      <td>0.625764</td>\n",
       "      <td>-0.027929</td>\n",
       "      <td>-0.936358</td>\n",
       "      <td>-0.285418</td>\n",
       "      <td>...</td>\n",
       "      <td>0.219407</td>\n",
       "      <td>0.021448</td>\n",
       "      <td>0.707376</td>\n",
       "      <td>0.369690</td>\n",
       "      <td>-0.298749</td>\n",
       "      <td>-0.465103</td>\n",
       "      <td>0.074235</td>\n",
       "      <td>0.194207</td>\n",
       "      <td>0</td>\n",
       "      <td>0.490647</td>\n",
       "    </tr>\n",
       "    <tr>\n",
       "      <td>2</td>\n",
       "      <td>-13.192671</td>\n",
       "      <td>12.785971</td>\n",
       "      <td>-9.906650</td>\n",
       "      <td>3.320337</td>\n",
       "      <td>-4.801176</td>\n",
       "      <td>5.760059</td>\n",
       "      <td>-18.750889</td>\n",
       "      <td>-37.353443</td>\n",
       "      <td>-0.391540</td>\n",
       "      <td>-5.052502</td>\n",
       "      <td>...</td>\n",
       "      <td>27.202839</td>\n",
       "      <td>-8.887017</td>\n",
       "      <td>5.303607</td>\n",
       "      <td>-0.639435</td>\n",
       "      <td>0.263203</td>\n",
       "      <td>-0.108877</td>\n",
       "      <td>1.269566</td>\n",
       "      <td>0.939407</td>\n",
       "      <td>1</td>\n",
       "      <td>-0.349231</td>\n",
       "    </tr>\n",
       "    <tr>\n",
       "      <td>3</td>\n",
       "      <td>-0.361428</td>\n",
       "      <td>1.133472</td>\n",
       "      <td>-2.971360</td>\n",
       "      <td>-0.283073</td>\n",
       "      <td>0.371452</td>\n",
       "      <td>-0.574680</td>\n",
       "      <td>4.031513</td>\n",
       "      <td>-0.934398</td>\n",
       "      <td>-0.768255</td>\n",
       "      <td>-2.248115</td>\n",
       "      <td>...</td>\n",
       "      <td>0.110815</td>\n",
       "      <td>0.563861</td>\n",
       "      <td>-0.408436</td>\n",
       "      <td>-0.880079</td>\n",
       "      <td>1.408392</td>\n",
       "      <td>-0.137402</td>\n",
       "      <td>-0.001250</td>\n",
       "      <td>-0.182751</td>\n",
       "      <td>1</td>\n",
       "      <td>1.568731</td>\n",
       "    </tr>\n",
       "    <tr>\n",
       "      <td>4</td>\n",
       "      <td>0.924375</td>\n",
       "      <td>-2.191736</td>\n",
       "      <td>0.474865</td>\n",
       "      <td>-0.937601</td>\n",
       "      <td>-1.959718</td>\n",
       "      <td>0.225338</td>\n",
       "      <td>-1.070480</td>\n",
       "      <td>0.062366</td>\n",
       "      <td>-1.242294</td>\n",
       "      <td>1.232832</td>\n",
       "      <td>...</td>\n",
       "      <td>-0.099345</td>\n",
       "      <td>-0.227077</td>\n",
       "      <td>-0.322902</td>\n",
       "      <td>0.024145</td>\n",
       "      <td>0.438769</td>\n",
       "      <td>-0.114752</td>\n",
       "      <td>0.009005</td>\n",
       "      <td>0.053425</td>\n",
       "      <td>0</td>\n",
       "      <td>0.773951</td>\n",
       "    </tr>\n",
       "    <tr>\n",
       "      <td>5</td>\n",
       "      <td>-1.426459</td>\n",
       "      <td>2.235644</td>\n",
       "      <td>-2.481917</td>\n",
       "      <td>-1.465647</td>\n",
       "      <td>0.867112</td>\n",
       "      <td>-0.707921</td>\n",
       "      <td>0.509424</td>\n",
       "      <td>1.041128</td>\n",
       "      <td>-0.877969</td>\n",
       "      <td>-0.391677</td>\n",
       "      <td>...</td>\n",
       "      <td>0.311237</td>\n",
       "      <td>0.821713</td>\n",
       "      <td>-0.162346</td>\n",
       "      <td>-0.081465</td>\n",
       "      <td>0.002237</td>\n",
       "      <td>0.102319</td>\n",
       "      <td>0.225596</td>\n",
       "      <td>0.193267</td>\n",
       "      <td>0</td>\n",
       "      <td>-0.350191</td>\n",
       "    </tr>\n",
       "    <tr>\n",
       "      <td>6</td>\n",
       "      <td>-3.975216</td>\n",
       "      <td>0.581573</td>\n",
       "      <td>-1.880372</td>\n",
       "      <td>4.319241</td>\n",
       "      <td>-3.024330</td>\n",
       "      <td>1.240793</td>\n",
       "      <td>-1.909559</td>\n",
       "      <td>0.660718</td>\n",
       "      <td>-2.752611</td>\n",
       "      <td>-3.550385</td>\n",
       "      <td>...</td>\n",
       "      <td>0.578984</td>\n",
       "      <td>1.397311</td>\n",
       "      <td>1.045322</td>\n",
       "      <td>-0.304000</td>\n",
       "      <td>0.005295</td>\n",
       "      <td>0.235435</td>\n",
       "      <td>0.962015</td>\n",
       "      <td>-0.673557</td>\n",
       "      <td>1</td>\n",
       "      <td>1.465180</td>\n",
       "    </tr>\n",
       "    <tr>\n",
       "      <td>7</td>\n",
       "      <td>-0.668126</td>\n",
       "      <td>0.218955</td>\n",
       "      <td>0.415721</td>\n",
       "      <td>-0.510760</td>\n",
       "      <td>1.035266</td>\n",
       "      <td>-0.516112</td>\n",
       "      <td>1.423702</td>\n",
       "      <td>-0.885727</td>\n",
       "      <td>0.617030</td>\n",
       "      <td>0.928700</td>\n",
       "      <td>...</td>\n",
       "      <td>-0.246642</td>\n",
       "      <td>-0.171031</td>\n",
       "      <td>0.124716</td>\n",
       "      <td>-0.362392</td>\n",
       "      <td>-1.044976</td>\n",
       "      <td>0.084725</td>\n",
       "      <td>-1.039493</td>\n",
       "      <td>-0.294840</td>\n",
       "      <td>0</td>\n",
       "      <td>-0.267231</td>\n",
       "    </tr>\n",
       "    <tr>\n",
       "      <td>8</td>\n",
       "      <td>-0.571655</td>\n",
       "      <td>1.652070</td>\n",
       "      <td>-1.054045</td>\n",
       "      <td>1.022518</td>\n",
       "      <td>1.192671</td>\n",
       "      <td>-0.448657</td>\n",
       "      <td>0.930418</td>\n",
       "      <td>0.405205</td>\n",
       "      <td>-1.068361</td>\n",
       "      <td>-0.656688</td>\n",
       "      <td>...</td>\n",
       "      <td>0.124778</td>\n",
       "      <td>0.435301</td>\n",
       "      <td>-0.217227</td>\n",
       "      <td>0.575167</td>\n",
       "      <td>0.016525</td>\n",
       "      <td>-0.424208</td>\n",
       "      <td>0.320406</td>\n",
       "      <td>0.196143</td>\n",
       "      <td>0</td>\n",
       "      <td>-0.296736</td>\n",
       "    </tr>\n",
       "    <tr>\n",
       "      <td>9</td>\n",
       "      <td>-5.839192</td>\n",
       "      <td>7.151532</td>\n",
       "      <td>-12.816760</td>\n",
       "      <td>7.031115</td>\n",
       "      <td>-9.651272</td>\n",
       "      <td>-2.938427</td>\n",
       "      <td>-11.543207</td>\n",
       "      <td>4.843627</td>\n",
       "      <td>-3.494276</td>\n",
       "      <td>-13.320789</td>\n",
       "      <td>...</td>\n",
       "      <td>2.462056</td>\n",
       "      <td>1.054865</td>\n",
       "      <td>0.530481</td>\n",
       "      <td>0.472670</td>\n",
       "      <td>-0.275998</td>\n",
       "      <td>0.282435</td>\n",
       "      <td>0.104886</td>\n",
       "      <td>0.254417</td>\n",
       "      <td>1</td>\n",
       "      <td>0.910406</td>\n",
       "    </tr>\n",
       "  </tbody>\n",
       "</table>\n",
       "<p>10 rows × 30 columns</p>\n",
       "</div>"
      ],
      "text/plain": [
       "          V1         V2         V3        V4        V5        V6         V7  \\\n",
       "0  -0.887287   1.390002   1.219686  1.661425  1.009228 -0.733908   0.855829   \n",
       "1  -1.465912  -0.625603   1.444164  1.625029  0.697957 -0.765448   0.625764   \n",
       "2 -13.192671  12.785971  -9.906650  3.320337 -4.801176  5.760059 -18.750889   \n",
       "3  -0.361428   1.133472  -2.971360 -0.283073  0.371452 -0.574680   4.031513   \n",
       "4   0.924375  -2.191736   0.474865 -0.937601 -1.959718  0.225338  -1.070480   \n",
       "5  -1.426459   2.235644  -2.481917 -1.465647  0.867112 -0.707921   0.509424   \n",
       "6  -3.975216   0.581573  -1.880372  4.319241 -3.024330  1.240793  -1.909559   \n",
       "7  -0.668126   0.218955   0.415721 -0.510760  1.035266 -0.516112   1.423702   \n",
       "8  -0.571655   1.652070  -1.054045  1.022518  1.192671 -0.448657   0.930418   \n",
       "9  -5.839192   7.151532 -12.816760  7.031115 -9.651272 -2.938427 -11.543207   \n",
       "\n",
       "          V8        V9        V10  ...        V21       V22       V23  \\\n",
       "0   0.000077 -1.275631  -0.433394  ...  -0.083734 -0.346930 -0.050619   \n",
       "1  -0.027929 -0.936358  -0.285418  ...   0.219407  0.021448  0.707376   \n",
       "2 -37.353443 -0.391540  -5.052502  ...  27.202839 -8.887017  5.303607   \n",
       "3  -0.934398 -0.768255  -2.248115  ...   0.110815  0.563861 -0.408436   \n",
       "4   0.062366 -1.242294   1.232832  ...  -0.099345 -0.227077 -0.322902   \n",
       "5   1.041128 -0.877969  -0.391677  ...   0.311237  0.821713 -0.162346   \n",
       "6   0.660718 -2.752611  -3.550385  ...   0.578984  1.397311  1.045322   \n",
       "7  -0.885727  0.617030   0.928700  ...  -0.246642 -0.171031  0.124716   \n",
       "8   0.405205 -1.068361  -0.656688  ...   0.124778  0.435301 -0.217227   \n",
       "9   4.843627 -3.494276 -13.320789  ...   2.462056  1.054865  0.530481   \n",
       "\n",
       "        V24       V25       V26       V27       V28  Class  ScaledAmount  \n",
       "0  0.231044 -0.450760 -0.376205  0.034504  0.157775      1     -0.322924  \n",
       "1  0.369690 -0.298749 -0.465103  0.074235  0.194207      0      0.490647  \n",
       "2 -0.639435  0.263203 -0.108877  1.269566  0.939407      1     -0.349231  \n",
       "3 -0.880079  1.408392 -0.137402 -0.001250 -0.182751      1      1.568731  \n",
       "4  0.024145  0.438769 -0.114752  0.009005  0.053425      0      0.773951  \n",
       "5 -0.081465  0.002237  0.102319  0.225596  0.193267      0     -0.350191  \n",
       "6 -0.304000  0.005295  0.235435  0.962015 -0.673557      1      1.465180  \n",
       "7 -0.362392 -1.044976  0.084725 -1.039493 -0.294840      0     -0.267231  \n",
       "8  0.575167  0.016525 -0.424208  0.320406  0.196143      0     -0.296736  \n",
       "9  0.472670 -0.275998  0.282435  0.104886  0.254417      1      0.910406  \n",
       "\n",
       "[10 rows x 30 columns]"
      ]
     },
     "execution_count": 83,
     "metadata": {},
     "output_type": "execute_result"
    }
   ],
   "source": [
    "no_of_frauds = cc_3.Class.value_counts()[1]\n",
    "print(no_of_frauds)\n",
    "legit = cc_3[cc_3['Class'] == 0]\n",
    "fraud = cc_3[cc_3['Class'] == 1]\n",
    "print(legit.shape)\n",
    "print(fraud.shape)\n",
    "\n",
    "legit_1 = legit.sample(no_of_frauds)\n",
    "cc_4 = pd.concat([legit_1, fraud])\n",
    "cc_4.tail()\n",
    "cc_4 = cc_4.sample(frac=1).reset_index(drop=True)\n",
    "cc_4.head(10)"
   ]
  },
  {
   "cell_type": "code",
   "execution_count": 84,
   "metadata": {},
   "outputs": [
    {
     "name": "stdout",
     "output_type": "stream",
     "text": [
      "Class\n",
      "0    417\n",
      "1    417\n",
      "dtype: int64\n"
     ]
    }
   ],
   "source": [
    "print(cc_4.groupby(['Class']).size())"
   ]
  },
  {
   "cell_type": "code",
   "execution_count": 96,
   "metadata": {},
   "outputs": [
    {
     "name": "stdout",
     "output_type": "stream",
     "text": [
      "Class\n",
      "0    314\n",
      "1    140\n",
      "dtype: int64\n"
     ]
    }
   ],
   "source": [
    "Q1 = cc_4.quantile(0.25)\n",
    "Q3 = cc_4.quantile(0.75)\n",
    "IQR = Q3 - Q1\n",
    "\n",
    "cc_5 = cc_4[~((cc_4 < (Q1 - 1.5 * IQR)) |(cc_4 > (Q3 + 1.5 * IQR))).any(axis=1)]\n",
    "print(cc_5.groupby(['Class']).size())\n",
    "\n",
    "#print(cc_data_new.shape)\n",
    "#print(cc_data_new.groupby(['Class']).size())"
   ]
  },
  {
   "cell_type": "code",
   "execution_count": 97,
   "metadata": {},
   "outputs": [],
   "source": [
    "cc_reduced = cc_5.copy()\n",
    "X = cc_reduced.drop('Class', axis=1)\n",
    "y = cc_reduced['Class']\n",
    "from sklearn.model_selection import train_test_split\n",
    "X_train, X_test, y_train, y_test = train_test_split(X, y, train_size=0.8, random_state=100)\n",
    "\n",
    "from sklearn.metrics import auc\n",
    "from sklearn.metrics import roc_curve"
   ]
  },
  {
   "cell_type": "markdown",
   "metadata": {},
   "source": [
    "# Entropy"
   ]
  },
  {
   "cell_type": "code",
   "execution_count": 99,
   "metadata": {},
   "outputs": [
    {
     "name": "stdout",
     "output_type": "stream",
     "text": [
      "Metrics for the test data \n",
      "\n",
      "Confusion matrix :\n",
      " [[55  7]\n",
      " [ 4 25]]\n",
      "Prediction accuracy :\n",
      " 0.8791208791208791\n",
      "Classification report :\n",
      "               precision    recall  f1-score   support\n",
      "\n",
      "           0       0.93      0.89      0.91        62\n",
      "           1       0.78      0.86      0.82        29\n",
      "\n",
      "    accuracy                           0.88        91\n",
      "   macro avg       0.86      0.87      0.86        91\n",
      "weighted avg       0.88      0.88      0.88        91\n",
      "\n",
      "Metrics for the train data \n",
      "\n",
      "Confusion matrix :\n",
      " [[250   2]\n",
      " [  3 108]]\n",
      "Prediction accuracy :\n",
      " 0.9862258953168044\n",
      "Classification property :\n",
      "               precision    recall  f1-score   support\n",
      "\n",
      "           0       0.99      0.99      0.99       252\n",
      "           1       0.98      0.97      0.98       111\n",
      "\n",
      "    accuracy                           0.99       363\n",
      "   macro avg       0.98      0.98      0.98       363\n",
      "weighted avg       0.99      0.99      0.99       363\n",
      "\n"
     ]
    }
   ],
   "source": [
    "from sklearn.tree import DecisionTreeClassifier\n",
    "dtree_ent = DecisionTreeClassifier(criterion='entropy', max_depth = 5)\n",
    "dtree_ent.fit(X_train,y_train)\n",
    "\n",
    "#metrics for the test data \n",
    "print('Metrics for the test data \\n')\n",
    "predictions = dtree_ent.predict(X_test)\n",
    "from sklearn.metrics import classification_report,confusion_matrix,accuracy_score\n",
    "conf_matrix=confusion_matrix(y_test,predictions)\n",
    "print('Confusion matrix :\\n',conf_matrix)\n",
    "accuracy=accuracy_score(y_test,predictions)\n",
    "print('Prediction accuracy :\\n',accuracy)\n",
    "print('Classification report :\\n', classification_report(y_test,predictions))\n",
    "\n",
    "#metrics for the train data \n",
    "print('Metrics for the train data \\n')\n",
    "predictions = dtree_ent.predict(X_train)\n",
    "from sklearn.metrics import classification_report,confusion_matrix,accuracy_score\n",
    "conf_matrix=confusion_matrix(y_train,predictions)\n",
    "print('Confusion matrix :\\n',conf_matrix)\n",
    "accuracy=accuracy_score(y_train,predictions)\n",
    "print('Prediction accuracy :\\n',accuracy)\n",
    "print('Classification property :\\n',classification_report(y_train,predictions))"
   ]
  },
  {
   "cell_type": "code",
   "execution_count": 101,
   "metadata": {},
   "outputs": [
    {
     "name": "stdout",
     "output_type": "stream",
     "text": [
      "Accuracies :\n",
      " [0.92105263 0.89189189 0.97222222 0.94444444 0.88888889 0.94444444\n",
      " 0.88888889 0.97222222 0.86111111 1.        ]\n",
      "Model_accuracy :\n",
      " 0.9285166745693061\n",
      "Model_standard_accuracy :\n",
      " 0.04303361794831631\n"
     ]
    },
    {
     "data": {
      "image/png": "[encoded data removed]",
      "text/plain": [
       "<Figure size 432x288 with 1 Axes>"
      ]
     },
     "metadata": {
      "needs_background": "light"
     },
     "output_type": "display_data"
    }
   ],
   "source": [
    "from sklearn.model_selection import cross_val_score\n",
    "accuracies = cross_val_score(estimator = dtree_ent, X = X_train, y = y_train, cv = 10)\n",
    "model_accuracy = accuracies.mean()\n",
    "model_standard_deviation = accuracies.std()\n",
    "\n",
    "print('Accuracies :\\n', accuracies)\n",
    "print('Model_accuracy :\\n', model_accuracy)\n",
    "print('Model_standard_accuracy :\\n', model_standard_deviation)\n",
    "\n",
    "fpr, tpr, threshold = roc_curve(y_test, dtree_ent.predict_proba(X_test)[:,1])\n",
    "roc_auc = auc(fpr, tpr)\n",
    "import matplotlib.pyplot as plt \n",
    "plt.title('Receiver Operating Characteristic')\n",
    "plt.plot(fpr, tpr, 'b',label = 'AUC = %0.2f' % roc_auc)\n",
    "plt.legend(loc = 'lower right')\n",
    "plt.plot([0, 1], [0, 1], 'r--')\n",
    "plt.xlim([0, 1])\n",
    "plt.ylim([0, 1])\n",
    "plt.ylabel('True Positive Rate')\n",
    "plt.xlabel('False Positive Rate')\n",
    "plt.show()"
   ]
  },
  {
   "cell_type": "markdown",
   "metadata": {},
   "source": [
    "# Gini "
   ]
  },
  {
   "cell_type": "code",
   "execution_count": 102,
   "metadata": {},
   "outputs": [
    {
     "name": "stdout",
     "output_type": "stream",
     "text": [
      "Metrics for the test data \n",
      "\n",
      "Confusion matrix :\n",
      " [[59  3]\n",
      " [ 5 24]]\n",
      "Prediction accuracy :\n",
      " 0.9120879120879121\n",
      "Classification report :\n",
      "               precision    recall  f1-score   support\n",
      "\n",
      "           0       0.92      0.95      0.94        62\n",
      "           1       0.89      0.83      0.86        29\n",
      "\n",
      "    accuracy                           0.91        91\n",
      "   macro avg       0.91      0.89      0.90        91\n",
      "weighted avg       0.91      0.91      0.91        91\n",
      "\n",
      "Metrics for the train data \n",
      "\n",
      "Confusion matrix :\n",
      " [[251   1]\n",
      " [ 10 101]]\n",
      "Prediction accuracy :\n",
      " 0.9696969696969697\n",
      "Classification property :\n",
      "               precision    recall  f1-score   support\n",
      "\n",
      "           0       0.96      1.00      0.98       252\n",
      "           1       0.99      0.91      0.95       111\n",
      "\n",
      "    accuracy                           0.97       363\n",
      "   macro avg       0.98      0.95      0.96       363\n",
      "weighted avg       0.97      0.97      0.97       363\n",
      "\n"
     ]
    }
   ],
   "source": [
    "from sklearn.tree import DecisionTreeClassifier\n",
    "dtree_gini = DecisionTreeClassifier(criterion='gini', max_depth = 3)\n",
    "dtree_gini.fit(X_train,y_train)\n",
    "\n",
    "#metrics for the test data \n",
    "print('Metrics for the test data \\n')\n",
    "predictions = dtree_gini.predict(X_test)\n",
    "from sklearn.metrics import classification_report,confusion_matrix,accuracy_score\n",
    "conf_matrix=confusion_matrix(y_test,predictions)\n",
    "print('Confusion matrix :\\n',conf_matrix)\n",
    "accuracy=accuracy_score(y_test,predictions)\n",
    "print('Prediction accuracy :\\n',accuracy)\n",
    "print('Classification report :\\n', classification_report(y_test,predictions))\n",
    "\n",
    "#metrics for the train data \n",
    "print('Metrics for the train data \\n')\n",
    "predictions = dtree_gini.predict(X_train)\n",
    "from sklearn.metrics import classification_report,confusion_matrix,accuracy_score\n",
    "conf_matrix=confusion_matrix(y_train,predictions)\n",
    "print('Confusion matrix :\\n',conf_matrix)\n",
    "accuracy=accuracy_score(y_train,predictions)\n",
    "print('Prediction accuracy :\\n',accuracy)\n",
    "print('Classification property :\\n',classification_report(y_train,predictions))"
   ]
  },
  {
   "cell_type": "code",
   "execution_count": 103,
   "metadata": {},
   "outputs": [
    {
     "name": "stdout",
     "output_type": "stream",
     "text": [
      "Accuracies :\n",
      " [0.92105263 0.89189189 0.97222222 0.94444444 0.88888889 0.91666667\n",
      " 0.91666667 1.         0.94444444 1.        ]\n",
      "Model_accuracy :\n",
      " 0.9396277856804172\n",
      "Model_standard_accuracy :\n",
      " 0.038276650515041824\n"
     ]
    },
    {
     "data": {
      "image/png": "[encoded data removed]",
      "text/plain": [
       "<Figure size 432x288 with 1 Axes>"
      ]
     },
     "metadata": {
      "needs_background": "light"
     },
     "output_type": "display_data"
    }
   ],
   "source": [
    "from sklearn.model_selection import cross_val_score\n",
    "accuracies = cross_val_score(estimator = dtree_gini, X = X_train, y = y_train, cv = 10)\n",
    "model_accuracy = accuracies.mean()\n",
    "model_standard_deviation = accuracies.std()\n",
    "\n",
    "print('Accuracies :\\n', accuracies)\n",
    "print('Model_accuracy :\\n', model_accuracy)\n",
    "print('Model_standard_accuracy :\\n', model_standard_deviation)\n",
    "\n",
    "fpr, tpr, threshold = roc_curve(y_test, dtree_gini.predict_proba(X_test)[:,1])\n",
    "roc_auc = auc(fpr, tpr)\n",
    "import matplotlib.pyplot as plt \n",
    "plt.title('Receiver Operating Characteristic')\n",
    "plt.plot(fpr, tpr, 'b',label = 'AUC = %0.2f' % roc_auc)\n",
    "plt.legend(loc = 'lower right')\n",
    "plt.plot([0, 1], [0, 1], 'r--')\n",
    "plt.xlim([0, 1])\n",
    "plt.ylim([0, 1])\n",
    "plt.ylabel('True Positive Rate')\n",
    "plt.xlabel('False Positive Rate')\n",
    "plt.show()"
   ]
  },
  {
   "cell_type": "markdown",
   "metadata": {},
   "source": [
    "# Random Forest"
   ]
  },
  {
   "cell_type": "code",
   "execution_count": 108,
   "metadata": {},
   "outputs": [
    {
     "name": "stdout",
     "output_type": "stream",
     "text": [
      "[[62  0]\n",
      " [ 5 24]]\n",
      "              precision    recall  f1-score   support\n",
      "\n",
      "           0       0.93      1.00      0.96        62\n",
      "           1       1.00      0.83      0.91        29\n",
      "\n",
      "    accuracy                           0.95        91\n",
      "   macro avg       0.96      0.91      0.93        91\n",
      "weighted avg       0.95      0.95      0.94        91\n",
      "\n",
      "0.945054945054945\n",
      "[[252   0]\n",
      " [  3 108]]\n",
      "              precision    recall  f1-score   support\n",
      "\n",
      "           0       0.99      1.00      0.99       252\n",
      "           1       1.00      0.97      0.99       111\n",
      "\n",
      "    accuracy                           0.99       363\n",
      "   macro avg       0.99      0.99      0.99       363\n",
      "weighted avg       0.99      0.99      0.99       363\n",
      "\n",
      "0.9917355371900827\n",
      "Accuracies :\n",
      " [0.92105263 0.89189189 0.97222222 0.97222222 0.88888889 0.94444444\n",
      " 0.88888889 0.91666667 0.97222222 1.        ]\n",
      "Model_accuracy :\n",
      " 0.9368500079026394\n",
      "Model_standard_accuracy :\n",
      " 0.03883023568997991\n"
     ]
    },
    {
     "data": {
      "image/png": "[encoded data removed]",
      "text/plain": [
       "<Figure size 432x288 with 1 Axes>"
      ]
     },
     "metadata": {
      "needs_background": "light"
     },
     "output_type": "display_data"
    }
   ],
   "source": [
    "from sklearn.ensemble import RandomForestClassifier\n",
    "rfc = RandomForestClassifier(n_estimators = 5)\n",
    "rfc.fit(X_train, y_train)\n",
    "\n",
    "rfc_pred = rfc.predict(X_test)\n",
    "print(confusion_matrix(y_test, rfc_pred))\n",
    "print(classification_report(y_test, rfc_pred))\n",
    "print(accuracy_score(y_test, rfc_pred))\n",
    "\n",
    "rfc_pred = rfc.predict(X_train)\n",
    "print(confusion_matrix(y_train, rfc_pred))\n",
    "print(classification_report(y_train, rfc_pred))\n",
    "print(accuracy_score(y_train, rfc_pred))\n",
    "\n",
    "from sklearn.model_selection import cross_val_score\n",
    "accuracies = cross_val_score(estimator = rfc, X = X_train, y = y_train, cv = 10)\n",
    "model_accuracy = accuracies.mean()\n",
    "model_standard_deviation = accuracies.std()\n",
    "\n",
    "print('Accuracies :\\n', accuracies)\n",
    "print('Model_accuracy :\\n', model_accuracy)\n",
    "print('Model_standard_accuracy :\\n', model_standard_deviation)\n",
    "\n",
    "\n",
    "fpr, tpr, threshold = roc_curve(y_test, rfc.predict_proba(X_test)[:,1])\n",
    "roc_auc = auc(fpr, tpr)\n",
    "import matplotlib.pyplot as plt \n",
    "plt.title('Receiver Operating Characteristic')\n",
    "plt.plot(fpr, tpr, 'b',label = 'AUC = %0.2f' % roc_auc)\n",
    "plt.legend(loc = 'lower right')\n",
    "plt.plot([0, 1], [0, 1], 'r--')\n",
    "plt.xlim([0, 1])\n",
    "plt.ylim([0, 1])\n",
    "plt.ylabel('True Positive Rate')\n",
    "plt.xlabel('False Positive Rate')\n",
    "plt.show()"
   ]
  },
  {
   "cell_type": "markdown",
   "metadata": {},
   "source": [
    "# XGBoost"
   ]
  },
  {
   "cell_type": "code",
   "execution_count": 107,
   "metadata": {},
   "outputs": [
    {
     "name": "stdout",
     "output_type": "stream",
     "text": [
      "[[61  1]\n",
      " [ 5 24]]\n",
      "              precision    recall  f1-score   support\n",
      "\n",
      "           0       0.92      0.98      0.95        62\n",
      "           1       0.96      0.83      0.89        29\n",
      "\n",
      "    accuracy                           0.93        91\n",
      "   macro avg       0.94      0.91      0.92        91\n",
      "weighted avg       0.94      0.93      0.93        91\n",
      "\n",
      "0.9340659340659341\n",
      "[[252   0]\n",
      " [  0 111]]\n",
      "              precision    recall  f1-score   support\n",
      "\n",
      "           0       1.00      1.00      1.00       252\n",
      "           1       1.00      1.00      1.00       111\n",
      "\n",
      "    accuracy                           1.00       363\n",
      "   macro avg       1.00      1.00      1.00       363\n",
      "weighted avg       1.00      1.00      1.00       363\n",
      "\n",
      "1.0\n",
      "Accuracies :\n",
      " [0.92105263 0.91891892 0.97222222 0.97222222 0.88888889 0.94444444\n",
      " 0.91666667 1.         0.97222222 0.97222222]\n",
      "Model_accuracy :\n",
      " 0.9478860439386754\n",
      "Model_standard_accuracy :\n",
      " 0.03333338790047097\n"
     ]
    },
    {
     "data": {
      "image/png": "[encoded data removed]",
      "text/plain": [
       "<Figure size 432x288 with 1 Axes>"
      ]
     },
     "metadata": {
      "needs_background": "light"
     },
     "output_type": "display_data"
    }
   ],
   "source": [
    "from xgboost import XGBClassifier \n",
    "xgbmodel = XGBClassifier()\n",
    "xgbmodel.fit(X_train, y_train)\n",
    "\n",
    "y_pred = xgbmodel.predict(X_test)\n",
    "print(confusion_matrix(y_test, y_pred))\n",
    "print(classification_report(y_test, y_pred))\n",
    "print(accuracy_score(y_test, y_pred))\n",
    "\n",
    "y_pred = xgbmodel.predict(X_train)\n",
    "print(confusion_matrix(y_train, y_pred))\n",
    "print(classification_report(y_train, y_pred))\n",
    "print(accuracy_score(y_train, y_pred))\n",
    "\n",
    "from sklearn.model_selection import cross_val_score\n",
    "accuracies = cross_val_score(estimator = xgbmodel, X = X_train, y = y_train, cv = 10)\n",
    "model_accuracy = accuracies.mean()\n",
    "model_standard_deviation = accuracies.std()\n",
    "\n",
    "print('Accuracies :\\n', accuracies)\n",
    "print('Model_accuracy :\\n', model_accuracy)\n",
    "print('Model_standard_accuracy :\\n', model_standard_deviation)\n",
    "\n",
    "fpr, tpr, threshold = roc_curve(y_test, xgbmodel.predict_proba(X_test)[:,1])\n",
    "roc_auc = auc(fpr, tpr)\n",
    "import matplotlib.pyplot as plt \n",
    "plt.title('Receiver Operating Characteristic')\n",
    "plt.plot(fpr, tpr, 'b',label = 'AUC = %0.2f' % roc_auc)\n",
    "plt.legend(loc = 'lower right')\n",
    "plt.plot([0, 1], [0, 1], 'r--')\n",
    "plt.xlim([0, 1])\n",
    "plt.ylim([0, 1])\n",
    "plt.ylabel('True Positive Rate')\n",
    "plt.xlabel('False Positive Rate')\n",
    "plt.show()"
   ]
  },
  {
   "cell_type": "markdown",
   "metadata": {},
   "source": [
    "# Logistic Regression"
   ]
  },
  {
   "cell_type": "code",
   "execution_count": 118,
   "metadata": {},
   "outputs": [
    {
     "name": "stderr",
     "output_type": "stream",
     "text": [
      "/usr/local/lib/python3.7/site-packages/sklearn/linear_model/logistic.py:432: FutureWarning: Default solver will be changed to 'lbfgs' in 0.22. Specify a solver to silence this warning.\n",
      "  FutureWarning)\n",
      "/usr/local/lib/python3.7/site-packages/sklearn/linear_model/logistic.py:432: FutureWarning: Default solver will be changed to 'lbfgs' in 0.22. Specify a solver to silence this warning.\n",
      "  FutureWarning)\n",
      "/usr/local/lib/python3.7/site-packages/sklearn/linear_model/logistic.py:432: FutureWarning: Default solver will be changed to 'lbfgs' in 0.22. Specify a solver to silence this warning.\n",
      "  FutureWarning)\n",
      "/usr/local/lib/python3.7/site-packages/sklearn/linear_model/logistic.py:432: FutureWarning: Default solver will be changed to 'lbfgs' in 0.22. Specify a solver to silence this warning.\n",
      "  FutureWarning)\n",
      "/usr/local/lib/python3.7/site-packages/sklearn/linear_model/logistic.py:432: FutureWarning: Default solver will be changed to 'lbfgs' in 0.22. Specify a solver to silence this warning.\n",
      "  FutureWarning)\n",
      "/usr/local/lib/python3.7/site-packages/sklearn/linear_model/logistic.py:432: FutureWarning: Default solver will be changed to 'lbfgs' in 0.22. Specify a solver to silence this warning.\n",
      "  FutureWarning)\n",
      "/usr/local/lib/python3.7/site-packages/sklearn/linear_model/logistic.py:432: FutureWarning: Default solver will be changed to 'lbfgs' in 0.22. Specify a solver to silence this warning.\n",
      "  FutureWarning)\n",
      "/usr/local/lib/python3.7/site-packages/sklearn/linear_model/logistic.py:432: FutureWarning: Default solver will be changed to 'lbfgs' in 0.22. Specify a solver to silence this warning.\n",
      "  FutureWarning)\n",
      "/usr/local/lib/python3.7/site-packages/sklearn/linear_model/logistic.py:432: FutureWarning: Default solver will be changed to 'lbfgs' in 0.22. Specify a solver to silence this warning.\n",
      "  FutureWarning)\n",
      "/usr/local/lib/python3.7/site-packages/sklearn/linear_model/logistic.py:432: FutureWarning: Default solver will be changed to 'lbfgs' in 0.22. Specify a solver to silence this warning.\n",
      "  FutureWarning)\n",
      "/usr/local/lib/python3.7/site-packages/sklearn/linear_model/logistic.py:432: FutureWarning: Default solver will be changed to 'lbfgs' in 0.22. Specify a solver to silence this warning.\n",
      "  FutureWarning)\n"
     ]
    },
    {
     "name": "stdout",
     "output_type": "stream",
     "text": [
      "[[60  2]\n",
      " [ 5 24]]\n",
      "              precision    recall  f1-score   support\n",
      "\n",
      "           0       0.92      0.97      0.94        62\n",
      "           1       0.92      0.83      0.87        29\n",
      "\n",
      "    accuracy                           0.92        91\n",
      "   macro avg       0.92      0.90      0.91        91\n",
      "weighted avg       0.92      0.92      0.92        91\n",
      "\n",
      "0.9230769230769231\n",
      "[[249   3]\n",
      " [ 12  99]]\n",
      "              precision    recall  f1-score   support\n",
      "\n",
      "           0       0.95      0.99      0.97       252\n",
      "           1       0.97      0.89      0.93       111\n",
      "\n",
      "    accuracy                           0.96       363\n",
      "   macro avg       0.96      0.94      0.95       363\n",
      "weighted avg       0.96      0.96      0.96       363\n",
      "\n",
      "0.9586776859504132\n",
      "Accuracies :\n",
      " [0.92105263 0.91891892 0.97222222 0.94444444 0.94444444 0.94444444\n",
      " 0.88888889 1.         0.97222222 0.94444444]\n",
      "Model_accuracy :\n",
      " 0.9451082661608977\n",
      "Model_standard_accuracy :\n",
      " 0.029850246485569245\n"
     ]
    },
    {
     "data": {
      "image/png": "[encoded data removed]",
      "text/plain": [
       "<Figure size 432x288 with 1 Axes>"
      ]
     },
     "metadata": {
      "needs_background": "light"
     },
     "output_type": "display_data"
    }
   ],
   "source": [
    "from sklearn.linear_model import LogisticRegression\n",
    "log_reg = LogisticRegression()\n",
    "log_reg.fit(X_train, y_train)\n",
    "\n",
    "y_pred = log_reg.predict(X_test)\n",
    "print(confusion_matrix(y_test, y_pred))\n",
    "print(classification_report(y_test, y_pred))\n",
    "print(accuracy_score(y_test, y_pred))\n",
    "\n",
    "y_pred = log_reg.predict(X_train)\n",
    "print(confusion_matrix(y_train, y_pred))\n",
    "print(classification_report(y_train, y_pred))\n",
    "print(accuracy_score(y_train, y_pred))\n",
    "\n",
    "from sklearn.model_selection import cross_val_score\n",
    "accuracies = cross_val_score(estimator = log_reg, X = X_train, y = y_train, cv = 10)\n",
    "model_accuracy = accuracies.mean()\n",
    "model_standard_deviation = accuracies.std()\n",
    "\n",
    "print('Accuracies :\\n', accuracies)\n",
    "print('Model_accuracy :\\n', model_accuracy)\n",
    "print('Model_standard_accuracy :\\n', model_standard_deviation)\n",
    "\n",
    "fpr, tpr, threshold = roc_curve(y_test, log_reg.predict_proba(X_test)[:,1])\n",
    "roc_auc = auc(fpr, tpr)\n",
    "import matplotlib.pyplot as plt \n",
    "plt.title('Receiver Operating Characteristic')\n",
    "plt.plot(fpr, tpr, 'b',label = 'AUC = %0.2f' % roc_auc)\n",
    "plt.legend(loc = 'lower right')\n",
    "plt.plot([0, 1], [0, 1], 'r--')\n",
    "plt.xlim([0, 1])\n",
    "plt.ylim([0, 1])\n",
    "plt.ylabel('True Positive Rate')\n",
    "plt.xlabel('False Positive Rate')\n",
    "plt.show()"
   ]
  },
  {
   "cell_type": "markdown",
   "metadata": {},
   "source": [
    "# KNN"
   ]
  },
  {
   "cell_type": "code",
   "execution_count": 116,
   "metadata": {},
   "outputs": [
    {
     "name": "stdout",
     "output_type": "stream",
     "text": [
      "[[61  1]\n",
      " [ 5 24]]\n",
      "              precision    recall  f1-score   support\n",
      "\n",
      "           0       0.92      0.98      0.95        62\n",
      "           1       0.96      0.83      0.89        29\n",
      "\n",
      "    accuracy                           0.93        91\n",
      "   macro avg       0.94      0.91      0.92        91\n",
      "weighted avg       0.94      0.93      0.93        91\n",
      "\n",
      "0.9340659340659341\n",
      "[[252   0]\n",
      " [ 17  94]]\n",
      "              precision    recall  f1-score   support\n",
      "\n",
      "           0       0.94      1.00      0.97       252\n",
      "           1       1.00      0.85      0.92       111\n",
      "\n",
      "    accuracy                           0.95       363\n",
      "   macro avg       0.97      0.92      0.94       363\n",
      "weighted avg       0.96      0.95      0.95       363\n",
      "\n",
      "0.953168044077135\n",
      "Accuracies :\n",
      " [0.92105263 0.91891892 0.97222222 0.97222222 0.88888889 0.97222222\n",
      " 0.97222222 0.97222222 0.94444444 1.        ]\n",
      "Model_accuracy :\n",
      " 0.9534415994942311\n",
      "Model_standard_accuracy :\n",
      " 0.032280188305089774\n"
     ]
    },
    {
     "data": {
      "image/png": "[encoded data removed]",
      "text/plain": [
       "<Figure size 432x288 with 1 Axes>"
      ]
     },
     "metadata": {
      "needs_background": "light"
     },
     "output_type": "display_data"
    }
   ],
   "source": [
    "from sklearn.neighbors import KNeighborsClassifier\n",
    "knn = KNeighborsClassifier(n_neighbors = 10)\n",
    "knn.fit(X_train, y_train)\n",
    "\n",
    "y_pred = knn.predict(X_test)\n",
    "print(confusion_matrix(y_test, y_pred))\n",
    "print(classification_report(y_test, y_pred))\n",
    "print(accuracy_score(y_test, y_pred))\n",
    "\n",
    "y_pred = knn.predict(X_train)\n",
    "print(confusion_matrix(y_train, y_pred))\n",
    "print(classification_report(y_train, y_pred))\n",
    "print(accuracy_score(y_train, y_pred))\n",
    "\n",
    "from sklearn.model_selection import cross_val_score\n",
    "accuracies = cross_val_score(estimator = knn, X = X_train, y = y_train, cv = 10)\n",
    "model_accuracy = accuracies.mean()\n",
    "model_standard_deviation = accuracies.std()\n",
    "\n",
    "print('Accuracies :\\n', accuracies)\n",
    "print('Model_accuracy :\\n', model_accuracy)\n",
    "print('Model_standard_accuracy :\\n', model_standard_deviation)\n",
    "\n",
    "fpr, tpr, threshold = roc_curve(y_test, knn.predict_proba(X_test)[:,1])\n",
    "roc_auc = auc(fpr, tpr)\n",
    "import matplotlib.pyplot as plt \n",
    "plt.title('Receiver Operating Characteristic')\n",
    "plt.plot(fpr, tpr, 'b',label = 'AUC = %0.2f' % roc_auc)\n",
    "plt.legend(loc = 'lower right')\n",
    "plt.plot([0, 1], [0, 1], 'r--')\n",
    "plt.xlim([0, 1])\n",
    "plt.ylim([0, 1])\n",
    "plt.ylabel('True Positive Rate')\n",
    "plt.xlabel('False Positive Rate')\n",
    "plt.show()"
   ]
  },
  {
   "cell_type": "markdown",
   "metadata": {},
   "source": [
    "# GaussianNB\n"
   ]
  },
  {
   "cell_type": "code",
   "execution_count": 117,
   "metadata": {},
   "outputs": [
    {
     "name": "stdout",
     "output_type": "stream",
     "text": [
      "[[61  1]\n",
      " [ 5 24]]\n",
      "              precision    recall  f1-score   support\n",
      "\n",
      "           0       0.92      0.98      0.95        62\n",
      "           1       0.96      0.83      0.89        29\n",
      "\n",
      "    accuracy                           0.93        91\n",
      "   macro avg       0.94      0.91      0.92        91\n",
      "weighted avg       0.94      0.93      0.93        91\n",
      "\n",
      "0.9340659340659341\n",
      "[[247   5]\n",
      " [ 20  91]]\n",
      "              precision    recall  f1-score   support\n",
      "\n",
      "           0       0.93      0.98      0.95       252\n",
      "           1       0.95      0.82      0.88       111\n",
      "\n",
      "    accuracy                           0.93       363\n",
      "   macro avg       0.94      0.90      0.92       363\n",
      "weighted avg       0.93      0.93      0.93       363\n",
      "\n",
      "0.931129476584022\n",
      "Accuracies :\n",
      " [0.86842105 0.91891892 0.94444444 0.94444444 0.88888889 0.91666667\n",
      " 0.94444444 0.97222222 0.91666667 0.94444444]\n",
      "Model_accuracy :\n",
      " 0.9259562193772719\n",
      "Model_standard_accuracy :\n",
      " 0.02900723782548714\n"
     ]
    },
    {
     "data": {
      "image/png": "[encoded data removed]",
      "text/plain": [
       "<Figure size 432x288 with 1 Axes>"
      ]
     },
     "metadata": {
      "needs_background": "light"
     },
     "output_type": "display_data"
    }
   ],
   "source": [
    "from sklearn.naive_bayes import GaussianNB\n",
    "gnb = GaussianNB()\n",
    "nb = gnb.fit(X_train, y_train)\n",
    "\n",
    "y_pred = nb.predict(X_test)\n",
    "print(confusion_matrix(y_test, y_pred))\n",
    "print(classification_report(y_test, y_pred))\n",
    "print(accuracy_score(y_test, y_pred))\n",
    "\n",
    "y_pred = nb.predict(X_train)\n",
    "print(confusion_matrix(y_train, y_pred))\n",
    "print(classification_report(y_train, y_pred))\n",
    "print(accuracy_score(y_train, y_pred))\n",
    "\n",
    "from sklearn.model_selection import cross_val_score\n",
    "accuracies = cross_val_score(estimator = nb, X = X_train, y = y_train, cv = 10)\n",
    "model_accuracy = accuracies.mean()\n",
    "model_standard_deviation = accuracies.std()\n",
    "\n",
    "print('Accuracies :\\n', accuracies)\n",
    "print('Model_accuracy :\\n', model_accuracy)\n",
    "print('Model_standard_accuracy :\\n', model_standard_deviation)\n",
    "\n",
    "fpr, tpr, threshold = roc_curve(y_test, nb.predict_proba(X_test)[:,1])\n",
    "roc_auc = auc(fpr, tpr)\n",
    "import matplotlib.pyplot as plt \n",
    "plt.title('Receiver Operating Characteristic')\n",
    "plt.plot(fpr, tpr, 'b',label = 'AUC = %0.2f' % roc_auc)\n",
    "plt.legend(loc = 'lower right')\n",
    "plt.plot([0, 1], [0, 1], 'r--')\n",
    "plt.xlim([0, 1])\n",
    "plt.ylim([0, 1])\n",
    "plt.ylabel('True Positive Rate')\n",
    "plt.xlabel('False Positive Rate')\n",
    "plt.show()"
   ]
  },
  {
   "cell_type": "markdown",
   "metadata": {},
   "source": [
    "We have complied the results for the entire data set and the reduced data. For the reduced data set we find that the 'Precision' and 'Recall' from the train data set indicate that overfitting is reduced for the Logistic regression and the GaussianNB. The cross validation score of these two model also justifies the fitting of these models, specially the Logistic Regression model. The high value of AUC also indicate that the logistic regression and the GaussianNB are better model to predict the fraud and non-fraud transactions. "
   ]
  },
  {
   "cell_type": "code",
   "execution_count": null,
   "metadata": {},
   "outputs": [],
   "source": []
  }
 ],
 "metadata": {
  "kernelspec": {
   "display_name": "Python 3",
   "language": "python",
   "name": "python3"
  },
  "language_info": {
   "codemirror_mode": {
    "name": "ipython",
    "version": 3
   },
   "file_extension": ".py",
   "mimetype": "text/x-python",
   "name": "python",
   "nbconvert_exporter": "python",
   "pygments_lexer": "ipython3",
   "version": "3.7.4"
  }
 },
 "nbformat": 4,
 "nbformat_minor": 2
}
